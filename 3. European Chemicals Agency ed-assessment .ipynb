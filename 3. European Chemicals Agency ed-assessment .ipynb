{
 "cells": [
  {
   "cell_type": "code",
   "execution_count": 7,
   "id": "2f6869ae",
   "metadata": {},
   "outputs": [],
   "source": [
    "from selenium import webdriver\n",
    "import time\n",
    "from selenium.webdriver.common.by import By\n",
    "from selenium.webdriver.chrome.service import Service\n",
    "from selenium.webdriver.chrome.options import Options\n",
    "import pandas as pd\n",
    "from datetime import datetime\n",
    "import os\n",
    "import glob "
   ]
  },
  {
   "cell_type": "code",
   "execution_count": 2,
   "id": "f0ea5782",
   "metadata": {},
   "outputs": [],
   "source": [
    "start_time = datetime.now()"
   ]
  },
  {
   "cell_type": "code",
   "execution_count": 3,
   "id": "99b2ee26",
   "metadata": {},
   "outputs": [],
   "source": [
    "dir = 'Y:\\\\delete\\\\European Chemicals Agency'\n",
    "for f in os.listdir(dir):\n",
    "    os.remove(os.path.join(dir, f))"
   ]
  },
  {
   "cell_type": "code",
   "execution_count": 4,
   "id": "c58a4694",
   "metadata": {},
   "outputs": [],
   "source": [
    "def handle_popup():\n",
    "    try:\n",
    "        driver.find_elements(by=By.XPATH, value='//*[@id=\"_viewsubstances_WAR_echarevsubstanceportlet_acceptDisclaimerButton\"]/span')[0].click()\n",
    "    except:\n",
    "        pass\n",
    "    return None"
   ]
  },
  {
   "cell_type": "code",
   "execution_count": 6,
   "id": "a898f392",
   "metadata": {},
   "outputs": [],
   "source": [
    "ser = Service(\"C:/Users/AIMPAI0/Downloads/chromedriver.exe\")\n",
    "op = webdriver.ChromeOptions()\n",
    "prefs = {\"download.default_directory\" : \"Y:\\\\delete\\\\ECHA\"}\n",
    "op.add_experimental_option(\"prefs\",prefs)\n",
    "driver = webdriver.Chrome(service=ser, options=op)\n",
    "driver.maximize_window()  \n",
    "driver.get(\"http://echa.europa.eu/nl/ed-assessment\")\n",
    "driver.implicitly_wait(5)\n",
    "handle_popup()\n",
    "driver.find_element(by=By.XPATH, value='//*[@id=\"_disslists_WAR_disslistsportlet_exportButtonXLS\"]/span').click()\n",
    "time.sleep(10)\n",
    "\n",
    "driver.close()"
   ]
  },
  {
   "cell_type": "code",
   "execution_count": 26,
   "id": "00823cb8",
   "metadata": {},
   "outputs": [
    {
     "name": "stderr",
     "output_type": "stream",
     "text": [
      "d:\\python3.9\\lib\\site-packages\\openpyxl\\styles\\stylesheet.py:226: UserWarning: Workbook contains no default style, apply openpyxl's default\n",
      "  warn(\"Workbook contains no default style, apply openpyxl's default\")\n"
     ]
    },
    {
     "data": {
      "text/html": [
       "<div>\n",
       "<style scoped>\n",
       "    .dataframe tbody tr th:only-of-type {\n",
       "        vertical-align: middle;\n",
       "    }\n",
       "\n",
       "    .dataframe tbody tr th {\n",
       "        vertical-align: top;\n",
       "    }\n",
       "\n",
       "    .dataframe thead th {\n",
       "        text-align: right;\n",
       "    }\n",
       "</style>\n",
       "<table border=\"1\" class=\"dataframe\">\n",
       "  <thead>\n",
       "    <tr style=\"text-align: right;\">\n",
       "      <th></th>\n",
       "      <th>CAS Number</th>\n",
       "      <th>Status</th>\n",
       "    </tr>\n",
       "  </thead>\n",
       "  <tbody>\n",
       "    <tr>\n",
       "      <th>0</th>\n",
       "      <td>100-21-0</td>\n",
       "      <td>Concluded</td>\n",
       "    </tr>\n",
       "    <tr>\n",
       "      <th>1</th>\n",
       "      <td>77-90-7</td>\n",
       "      <td>Concluded</td>\n",
       "    </tr>\n",
       "  </tbody>\n",
       "</table>\n",
       "</div>"
      ],
      "text/plain": [
       "  CAS Number     Status\n",
       "0   100-21-0  Concluded\n",
       "1    77-90-7  Concluded"
      ]
     },
     "execution_count": 26,
     "metadata": {},
     "output_type": "execute_result"
    }
   ],
   "source": [
    "path = 'Y:\\\\delete\\\\ECHA'\n",
    "filenames = glob.glob(path + \"\\*.xlsx\")\n",
    "for f in filenames:\n",
    "    dataset = pd.read_excel(f,skiprows=3)\n",
    "dataset = dataset[['CAS no','Status']]\n",
    "dataset.rename(columns = {'CAS no':'CAS Number'}, inplace = True)\n",
    "dataset = dataset.loc[dataset['CAS Number'] != '-']\n",
    "dataset = dataset.applymap(lambda x: x.strip() if isinstance(x, str) else x)\n",
    "\n",
    "CAS = pd.read_excel('Y:/delete/Chemical CAS.xlsx')\n",
    "CAS['value'] = 'Concluded'\n",
    "CAS = CAS.applymap(lambda x: x.strip() if isinstance(x, str) else x)\n",
    "\n",
    "result = pd.merge(dataset, CAS, how=\"outer\", on=\"CAS Number\")\n",
    "result.Status.fillna(result.value, inplace=True)\n",
    "del result['value']\n",
    "result.head(2)"
   ]
  },
  {
   "cell_type": "code",
   "execution_count": 29,
   "id": "d0136039",
   "metadata": {},
   "outputs": [
    {
     "data": {
      "text/html": [
       "<div>\n",
       "<style scoped>\n",
       "    .dataframe tbody tr th:only-of-type {\n",
       "        vertical-align: middle;\n",
       "    }\n",
       "\n",
       "    .dataframe tbody tr th {\n",
       "        vertical-align: top;\n",
       "    }\n",
       "\n",
       "    .dataframe thead th {\n",
       "        text-align: right;\n",
       "    }\n",
       "</style>\n",
       "<table border=\"1\" class=\"dataframe\">\n",
       "  <thead>\n",
       "    <tr style=\"text-align: right;\">\n",
       "      <th></th>\n",
       "      <th>CAS Number</th>\n",
       "      <th>Jurisdiction</th>\n",
       "      <th>RegulatoryAgency</th>\n",
       "      <th>TypeOfRegulation</th>\n",
       "      <th>Criteria</th>\n",
       "      <th>Description</th>\n",
       "      <th>HazardClassification</th>\n",
       "      <th>CauseOfClassification</th>\n",
       "      <th>SourceName</th>\n",
       "      <th>SourceURL</th>\n",
       "    </tr>\n",
       "  </thead>\n",
       "  <tbody>\n",
       "    <tr>\n",
       "      <th>0</th>\n",
       "      <td>100-21-0</td>\n",
       "      <td>Europe</td>\n",
       "      <td>European Chemicals Agency (ECHA)</td>\n",
       "      <td>Health</td>\n",
       "      <td>Endocrine Disruption</td>\n",
       "      <td>Not an endocrine disuptor</td>\n",
       "      <td>Low</td>\n",
       "      <td>Not ED</td>\n",
       "      <td>European Chemicals Agency</td>\n",
       "      <td>http://echa.europa.eu/nl/ed-assessment</td>\n",
       "    </tr>\n",
       "    <tr>\n",
       "      <th>1</th>\n",
       "      <td>77-90-7</td>\n",
       "      <td>Europe</td>\n",
       "      <td>European Chemicals Agency (ECHA)</td>\n",
       "      <td>Health</td>\n",
       "      <td>Endocrine Disruption</td>\n",
       "      <td>Not an endocrine disuptor</td>\n",
       "      <td>Low</td>\n",
       "      <td>Not ED</td>\n",
       "      <td>European Chemicals Agency</td>\n",
       "      <td>http://echa.europa.eu/nl/ed-assessment</td>\n",
       "    </tr>\n",
       "  </tbody>\n",
       "</table>\n",
       "</div>"
      ],
      "text/plain": [
       "  CAS Number Jurisdiction                  RegulatoryAgency TypeOfRegulation  \\\n",
       "0   100-21-0       Europe  European Chemicals Agency (ECHA)           Health   \n",
       "1    77-90-7       Europe  European Chemicals Agency (ECHA)           Health   \n",
       "\n",
       "               Criteria                Description HazardClassification  \\\n",
       "0  Endocrine Disruption  Not an endocrine disuptor                  Low   \n",
       "1  Endocrine Disruption  Not an endocrine disuptor                  Low   \n",
       "\n",
       "  CauseOfClassification                 SourceName  \\\n",
       "0                Not ED  European Chemicals Agency   \n",
       "1                Not ED  European Chemicals Agency   \n",
       "\n",
       "                                SourceURL  \n",
       "0  http://echa.europa.eu/nl/ed-assessment  \n",
       "1  http://echa.europa.eu/nl/ed-assessment  "
      ]
     },
     "execution_count": 29,
     "metadata": {},
     "output_type": "execute_result"
    }
   ],
   "source": [
    "result['Jurisdiction'] = 'Europe'\n",
    "result['RegulatoryAgency'] = 'European Chemicals Agency (ECHA)'\n",
    "result['TypeOfRegulation'] = 'Health'\n",
    "result['Criteria'] = 'Endocrine Disruption'\n",
    "\n",
    "result['Description'] = 'Under investigation'\n",
    "result.loc[result['Status'] == 'Concluded', 'Description'] = 'Not an endocrine disuptor'\n",
    "\n",
    "result['HazardClassification'] = 'High'\n",
    "result.loc[result['Status'] == 'Concluded', 'HazardClassification'] = 'Low'\n",
    "\n",
    "result['CauseOfClassification'] = 'Under development, under development under SEV, postponed'\n",
    "result.loc[result['Status'] == 'Concluded', 'CauseOfClassification'] = 'Not ED'\n",
    "\n",
    "result['SourceName'] = 'European Chemicals Agency'\n",
    "result['SourceURL'] = 'http://echa.europa.eu/nl/ed-assessment'\n",
    "result = result.drop(['Status'], axis=1)\n",
    "\n",
    "result.head(2)"
   ]
  },
  {
   "cell_type": "code",
   "execution_count": null,
   "id": "ac3208d8",
   "metadata": {},
   "outputs": [],
   "source": [
    "results.to_csv('Y:/delete/Reugulatory Assessment.csv',index=False,mode='a',header=False)"
   ]
  },
  {
   "cell_type": "code",
   "execution_count": 11,
   "id": "dfc8d062",
   "metadata": {},
   "outputs": [
    {
     "name": "stdout",
     "output_type": "stream",
     "text": [
      "The total time taken is 0:05:57.446392\n"
     ]
    }
   ],
   "source": [
    "end_time = datetime.now()\n",
    "print('The total time taken is', (end_time - start_time))"
   ]
  }
 ],
 "metadata": {
  "kernelspec": {
   "display_name": "Python 3 (ipykernel)",
   "language": "python",
   "name": "python3"
  },
  "language_info": {
   "codemirror_mode": {
    "name": "ipython",
    "version": 3
   },
   "file_extension": ".py",
   "mimetype": "text/x-python",
   "name": "python",
   "nbconvert_exporter": "python",
   "pygments_lexer": "ipython3",
   "version": "3.9.6"
  }
 },
 "nbformat": 4,
 "nbformat_minor": 5
}
