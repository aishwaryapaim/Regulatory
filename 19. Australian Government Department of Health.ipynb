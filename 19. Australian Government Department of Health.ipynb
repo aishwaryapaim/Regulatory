{
 "cells": [
  {
   "cell_type": "code",
   "execution_count": 10,
   "id": "02985ab6",
   "metadata": {},
   "outputs": [],
   "source": [
    "from selenium import webdriver\n",
    "import time\n",
    "from selenium.webdriver.common.by import By\n",
    "from selenium.webdriver.chrome.service import Service\n",
    "from selenium.webdriver.chrome.options import Options\n",
    "import pandas as pd\n",
    "from datetime import datetime\n",
    "import os\n",
    "import glob "
   ]
  },
  {
   "cell_type": "code",
   "execution_count": 5,
   "id": "65b65241",
   "metadata": {},
   "outputs": [],
   "source": [
    "start_time = datetime.now()"
   ]
  },
  {
   "cell_type": "code",
   "execution_count": 40,
   "id": "5670b894",
   "metadata": {},
   "outputs": [],
   "source": [
    "dir = 'Y:\\\\delete\\\\Australian Government Department of Health'\n",
    "for f in os.listdir(dir):\n",
    "    os.remove(os.path.join(dir, f))"
   ]
  },
  {
   "cell_type": "code",
   "execution_count": 41,
   "id": "13b3b939",
   "metadata": {},
   "outputs": [],
   "source": [
    "ser = Service(\"C:/Users/AIMPAI0/Downloads/chromedriver.exe\")\n",
    "op = webdriver.ChromeOptions()\n",
    "prefs = {\"download.default_directory\" : \"Y:\\\\delete\\\\Australian Government Department of Health\"}\n",
    "op.add_experimental_option(\"prefs\",prefs)\n",
    "driver = webdriver.Chrome(service=ser, options=op)\n",
    "driver.maximize_window()  \n",
    "driver.get(\"https://www.industrialchemicals.gov.au/help-and-guides/list-chemicals-high-hazards-categorisation\")\n",
    "driver.implicitly_wait(5)\n",
    "driver.find_element(by=By.XPATH, value='//*[@id=\"block-nicnas-theme-mainpagecontent\"]/div/article/div/div[2]/div/div[1]/div[2]/div/div/div/article/div/a').click()\n",
    "time.sleep(10)\n",
    "driver.close()"
   ]
  },
  {
   "cell_type": "code",
   "execution_count": 46,
   "id": "eadf18cf",
   "metadata": {},
   "outputs": [],
   "source": [
    "path = 'Y:\\\\delete\\\\Australian Government Department of Health'\n",
    "filenames = glob.glob(path + \"/*.xlsx\")\n",
    "for f in filenames:\n",
    "    dataset = pd.read_excel(f,sheet_name='Consolidated list')\n",
    "#dataset = dataset[['CAS RN']]\n",
    "dataset.rename(columns = {'CAS RN':'CAS Number'}, inplace = True)\n",
    "dataset = dataset.loc[dataset['CAS Number'] != 'not specified']\n",
    "dataset = dataset.applymap(lambda x: x.strip() if isinstance(x, str) else x)\n",
    "CAS = pd.read_excel('Y:/delete/Chemical CAS.xlsx')\n",
    "CAS['value'] = 'Not in list'\n",
    "CAS = CAS.applymap(lambda x: x.strip() if isinstance(x, str) else x)\n",
    "\n",
    "result = pd.merge(dataset, CAS, how=\"outer\", on=\"CAS Number\")"
   ]
  },
  {
   "cell_type": "code",
   "execution_count": 47,
   "id": "257f67b6",
   "metadata": {},
   "outputs": [
    {
     "data": {
      "text/html": [
       "<div>\n",
       "<style scoped>\n",
       "    .dataframe tbody tr th:only-of-type {\n",
       "        vertical-align: middle;\n",
       "    }\n",
       "\n",
       "    .dataframe tbody tr th {\n",
       "        vertical-align: top;\n",
       "    }\n",
       "\n",
       "    .dataframe thead th {\n",
       "        text-align: right;\n",
       "    }\n",
       "</style>\n",
       "<table border=\"1\" class=\"dataframe\">\n",
       "  <thead>\n",
       "    <tr style=\"text-align: right;\">\n",
       "      <th></th>\n",
       "      <th>CAS Number</th>\n",
       "      <th>value</th>\n",
       "      <th>Jurisdiction</th>\n",
       "      <th>RegulatoryAgency</th>\n",
       "      <th>TypeOfRegulation</th>\n",
       "      <th>Criteria</th>\n",
       "      <th>Description</th>\n",
       "      <th>HazardClassification</th>\n",
       "      <th>CauseOfClassification</th>\n",
       "      <th>SourceName</th>\n",
       "      <th>SourceURL</th>\n",
       "    </tr>\n",
       "  </thead>\n",
       "  <tbody>\n",
       "    <tr>\n",
       "      <th>0</th>\n",
       "      <td>50-00-0</td>\n",
       "      <td>NaN</td>\n",
       "      <td>Australia</td>\n",
       "      <td>Department of Health</td>\n",
       "      <td>Health</td>\n",
       "      <td>hazard band C for human health or hazard bands...</td>\n",
       "      <td>High Hazard Chemical</td>\n",
       "      <td>High</td>\n",
       "      <td>On list of \"Chemicals with High Hazard for Cla...</td>\n",
       "      <td>Australian Government Department of Health</td>\n",
       "      <td>https://www.industrialchemicals.gov.au/help-an...</td>\n",
       "    </tr>\n",
       "    <tr>\n",
       "      <th>1</th>\n",
       "      <td>50-06-6</td>\n",
       "      <td>NaN</td>\n",
       "      <td>Australia</td>\n",
       "      <td>Department of Health</td>\n",
       "      <td>Health</td>\n",
       "      <td>hazard band C for human health or hazard bands...</td>\n",
       "      <td>High Hazard Chemical</td>\n",
       "      <td>High</td>\n",
       "      <td>On list of \"Chemicals with High Hazard for Cla...</td>\n",
       "      <td>Australian Government Department of Health</td>\n",
       "      <td>https://www.industrialchemicals.gov.au/help-an...</td>\n",
       "    </tr>\n",
       "  </tbody>\n",
       "</table>\n",
       "</div>"
      ],
      "text/plain": [
       "  CAS Number value Jurisdiction      RegulatoryAgency TypeOfRegulation  \\\n",
       "0    50-00-0   NaN    Australia  Department of Health           Health   \n",
       "1    50-06-6   NaN    Australia  Department of Health           Health   \n",
       "\n",
       "                                            Criteria           Description  \\\n",
       "0  hazard band C for human health or hazard bands...  High Hazard Chemical   \n",
       "1  hazard band C for human health or hazard bands...  High Hazard Chemical   \n",
       "\n",
       "  HazardClassification                              CauseOfClassification  \\\n",
       "0                 High  On list of \"Chemicals with High Hazard for Cla...   \n",
       "1                 High  On list of \"Chemicals with High Hazard for Cla...   \n",
       "\n",
       "                                   SourceName  \\\n",
       "0  Australian Government Department of Health   \n",
       "1  Australian Government Department of Health   \n",
       "\n",
       "                                           SourceURL  \n",
       "0  https://www.industrialchemicals.gov.au/help-an...  \n",
       "1  https://www.industrialchemicals.gov.au/help-an...  "
      ]
     },
     "execution_count": 47,
     "metadata": {},
     "output_type": "execute_result"
    }
   ],
   "source": [
    "result['Jurisdiction'] = 'Australia'\n",
    "result['RegulatoryAgency'] = 'Department of Health'\n",
    "result['TypeOfRegulation'] = 'Health'\n",
    "result['Criteria'] = 'hazard band C for human health or hazard bands D or C for environment'\n",
    "\n",
    "result['Description'] = 'High Hazard Chemical'\n",
    "result.loc[result['value'] == 'Not in list', 'Description'] = 'Not High Hazard Chemical'\n",
    "\n",
    "result['HazardClassification'] = 'High'\n",
    "result.loc[result['value'] == 'Not in list', 'HazardClassification'] = 'Low'\n",
    "\n",
    "result['CauseOfClassification'] = 'On list of \"Chemicals with High Hazard for Classification\"'\n",
    "result.loc[result['value'] == 'Not in list', 'CauseOfClassification'] = 'Not on list of \"Chemicals with High Hazard for Classification'\n",
    "\n",
    "result['SourceName'] = 'Australian Government Department of Health'\n",
    "result['SourceURL'] = 'https://www.industrialchemicals.gov.au/help-and-guides/list-chemicals-high-hazards-categorisation'\n",
    "\n",
    "result.head(2)"
   ]
  },
  {
   "cell_type": "code",
   "execution_count": null,
   "id": "082dc28e",
   "metadata": {},
   "outputs": [],
   "source": [
    "result.to_csv('Y:/delete/Reugulatory Assessment.csv',index=False,mode='a',header=False)"
   ]
  },
  {
   "cell_type": "code",
   "execution_count": 48,
   "id": "55fbaed1",
   "metadata": {},
   "outputs": [
    {
     "name": "stdout",
     "output_type": "stream",
     "text": [
      "The total time taken is 0:20:31.498526\n"
     ]
    }
   ],
   "source": [
    "end_time = datetime.now()\n",
    "print('The total time taken is', (end_time - start_time))"
   ]
  }
 ],
 "metadata": {
  "kernelspec": {
   "display_name": "Python 3 (ipykernel)",
   "language": "python",
   "name": "python3"
  },
  "language_info": {
   "codemirror_mode": {
    "name": "ipython",
    "version": 3
   },
   "file_extension": ".py",
   "mimetype": "text/x-python",
   "name": "python",
   "nbconvert_exporter": "python",
   "pygments_lexer": "ipython3",
   "version": "3.9.6"
  }
 },
 "nbformat": 4,
 "nbformat_minor": 5
}
