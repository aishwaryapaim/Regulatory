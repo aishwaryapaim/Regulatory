{
 "cells": [
  {
   "cell_type": "code",
   "execution_count": 1,
   "id": "78d10673",
   "metadata": {},
   "outputs": [],
   "source": [
    "from selenium import webdriver\n",
    "import time\n",
    "from selenium.webdriver.common.by import By\n",
    "from selenium.webdriver.chrome.service import Service\n",
    "from io import StringIO\n",
    "from selenium.webdriver.chrome.options import Options\n",
    "import pandas as pd\n",
    "from datetime import datetime\n",
    "import os\n",
    "import glob"
   ]
  },
  {
   "cell_type": "code",
   "execution_count": 2,
   "id": "bb3191d6",
   "metadata": {},
   "outputs": [],
   "source": [
    "start_time = datetime.now()"
   ]
  },
  {
   "cell_type": "code",
   "execution_count": 3,
   "id": "9c046952",
   "metadata": {},
   "outputs": [],
   "source": [
    "dir = \"Y:\\\\delete\\\\US National Toxicolgy Program\"\n",
    "for f in os.listdir(dir):\n",
    "    os.remove(os.path.join(dir, f)) "
   ]
  },
  {
   "cell_type": "code",
   "execution_count": 4,
   "id": "e4599719",
   "metadata": {},
   "outputs": [],
   "source": [
    "ser = Service(\"C:/Users/AIMPAI0/Downloads/chromedriver.exe\")\n",
    "op = webdriver.ChromeOptions()\n",
    "prefs = {\"download.default_directory\" : \"Y:\\\\delete\\\\US National Toxicolgy Program\"}\n",
    "op.add_experimental_option(\"prefs\",prefs)\n",
    "driver = webdriver.Chrome(service=ser, options=op)\n",
    "driver.maximize_window()  \n",
    "driver.get(\"https://ntp.niehs.nih.gov/whatwestudy/assessments/cancer/roc/index.html\")\n",
    "driver.implicitly_wait(5)\n",
    "driver.find_element(by=By.XPATH, value='//*[@id=\"rocAccessListingsBox\"]/ul/li[7]/a').click()\n",
    "time.sleep(10)\n",
    "driver.close()"
   ]
  },
  {
   "cell_type": "code",
   "execution_count": 17,
   "id": "b9dbd0d3",
   "metadata": {},
   "outputs": [
    {
     "name": "stderr",
     "output_type": "stream",
     "text": [
      "d:\\python3.9\\lib\\site-packages\\openpyxl\\worksheet\\_reader.py:312: UserWarning: Unknown extension is not supported and will be removed\n",
      "  warn(msg)\n"
     ]
    },
    {
     "data": {
      "text/html": [
       "<div>\n",
       "<style scoped>\n",
       "    .dataframe tbody tr th:only-of-type {\n",
       "        vertical-align: middle;\n",
       "    }\n",
       "\n",
       "    .dataframe tbody tr th {\n",
       "        vertical-align: top;\n",
       "    }\n",
       "\n",
       "    .dataframe thead th {\n",
       "        text-align: right;\n",
       "    }\n",
       "</style>\n",
       "<table border=\"1\" class=\"dataframe\">\n",
       "  <thead>\n",
       "    <tr style=\"text-align: right;\">\n",
       "      <th></th>\n",
       "      <th>CAS Number</th>\n",
       "      <th>NAME OR SYNONYM</th>\n",
       "      <th>Group</th>\n",
       "    </tr>\n",
       "  </thead>\n",
       "  <tbody>\n",
       "    <tr>\n",
       "      <th>0</th>\n",
       "      <td>50-00-0</td>\n",
       "      <td>Formaldehyde</td>\n",
       "      <td>Known</td>\n",
       "    </tr>\n",
       "    <tr>\n",
       "      <th>1</th>\n",
       "      <td>50-18-0</td>\n",
       "      <td>Cyclophosphamide</td>\n",
       "      <td>Known</td>\n",
       "    </tr>\n",
       "  </tbody>\n",
       "</table>\n",
       "</div>"
      ],
      "text/plain": [
       "  CAS Number   NAME OR SYNONYM  Group\n",
       "0    50-00-0      Formaldehyde  Known\n",
       "1    50-18-0  Cyclophosphamide  Known"
      ]
     },
     "execution_count": 17,
     "metadata": {},
     "output_type": "execute_result"
    }
   ],
   "source": [
    "path = 'Y:\\\\delete\\\\US National Toxicolgy Program'\n",
    "filenames = glob.glob(path + \"\\*.xlsx\")\n",
    "for f in filenames:\n",
    "    dataset = pd.read_excel(f,sheet_name='CAS #s')\n",
    "dataset = dataset[dataset['CASRN'].notna()]\n",
    "dataset.reset_index(inplace = True, drop = True)\n",
    "dataset.columns.values[2] = \"Group\"\n",
    "dataset.rename(columns = {'CASRN':'CAS Number'}, inplace = True)\n",
    "dataset = dataset.applymap(lambda x: x.strip() if isinstance(x, str) else x)\n",
    "CAS = pd.read_excel('Y:/delete/Chemical CAS.xlsx')\n",
    "CAS['value'] = 'Unknown'\n",
    "CAS = CAS.applymap(lambda x: x.strip() if isinstance(x, str) else x)\n",
    "\n",
    "result = pd.merge(dataset, CAS, how=\"outer\", on=\"CAS Number\")\n",
    "result.Group.fillna(result.value, inplace=True)\n",
    "del result['value']\n",
    "result.head(2)"
   ]
  },
  {
   "cell_type": "code",
   "execution_count": 18,
   "id": "84cc71f8",
   "metadata": {},
   "outputs": [
    {
     "data": {
      "text/html": [
       "<div>\n",
       "<style scoped>\n",
       "    .dataframe tbody tr th:only-of-type {\n",
       "        vertical-align: middle;\n",
       "    }\n",
       "\n",
       "    .dataframe tbody tr th {\n",
       "        vertical-align: top;\n",
       "    }\n",
       "\n",
       "    .dataframe thead th {\n",
       "        text-align: right;\n",
       "    }\n",
       "</style>\n",
       "<table border=\"1\" class=\"dataframe\">\n",
       "  <thead>\n",
       "    <tr style=\"text-align: right;\">\n",
       "      <th></th>\n",
       "      <th>CAS Number</th>\n",
       "      <th>Jurisdiction</th>\n",
       "      <th>RegulatoryAgency</th>\n",
       "      <th>TypeOfRegulation</th>\n",
       "      <th>Criteria</th>\n",
       "      <th>Description</th>\n",
       "      <th>HazardClassification</th>\n",
       "      <th>CauseOfClassification</th>\n",
       "      <th>SourceName</th>\n",
       "      <th>SourceURL</th>\n",
       "    </tr>\n",
       "  </thead>\n",
       "  <tbody>\n",
       "    <tr>\n",
       "      <th>0</th>\n",
       "      <td>50-00-0</td>\n",
       "      <td>US</td>\n",
       "      <td>National Toxicology Program (NTP)</td>\n",
       "      <td>Health</td>\n",
       "      <td>Carcinogenicity</td>\n",
       "      <td>May cause cancer</td>\n",
       "      <td>High</td>\n",
       "      <td>Known</td>\n",
       "      <td>International Agency for Research on Cancer</td>\n",
       "      <td>https://monographs.iarc.who.int/list-of-classi...</td>\n",
       "    </tr>\n",
       "    <tr>\n",
       "      <th>1</th>\n",
       "      <td>50-18-0</td>\n",
       "      <td>US</td>\n",
       "      <td>National Toxicology Program (NTP)</td>\n",
       "      <td>Health</td>\n",
       "      <td>Carcinogenicity</td>\n",
       "      <td>May cause cancer</td>\n",
       "      <td>High</td>\n",
       "      <td>Known</td>\n",
       "      <td>International Agency for Research on Cancer</td>\n",
       "      <td>https://monographs.iarc.who.int/list-of-classi...</td>\n",
       "    </tr>\n",
       "  </tbody>\n",
       "</table>\n",
       "</div>"
      ],
      "text/plain": [
       "  CAS Number Jurisdiction                   RegulatoryAgency TypeOfRegulation  \\\n",
       "0    50-00-0           US  National Toxicology Program (NTP)           Health   \n",
       "1    50-18-0           US  National Toxicology Program (NTP)           Health   \n",
       "\n",
       "          Criteria       Description HazardClassification  \\\n",
       "0  Carcinogenicity  May cause cancer                 High   \n",
       "1  Carcinogenicity  May cause cancer                 High   \n",
       "\n",
       "  CauseOfClassification                                   SourceName  \\\n",
       "0                 Known  International Agency for Research on Cancer   \n",
       "1                 Known  International Agency for Research on Cancer   \n",
       "\n",
       "                                           SourceURL  \n",
       "0  https://monographs.iarc.who.int/list-of-classi...  \n",
       "1  https://monographs.iarc.who.int/list-of-classi...  "
      ]
     },
     "execution_count": 18,
     "metadata": {},
     "output_type": "execute_result"
    }
   ],
   "source": [
    "result['Jurisdiction'] = 'US'\n",
    "result['RegulatoryAgency'] = 'National Toxicology Program (NTP)'\n",
    "result['TypeOfRegulation'] = 'Health'\n",
    "result['Criteria'] = 'Carcinogenicity'\n",
    "\n",
    "\n",
    "result['Description'] = 'May cause cancer'\n",
    "result.loc[result['Group'] == 'RAHC', 'Description'] = 'Suspected of Causing Cancer'\n",
    "result.loc[result['Group'] == 'Unknown', 'Description'] = 'Not evaluated'\n",
    "\n",
    "\n",
    "result['HazardClassification'] = 'High'\n",
    "result.loc[result['Group'] == 'RAHC', 'HazardClassification'] = 'Moderate'\n",
    "result.loc[result['Group'] == 'Unknown', 'HazardClassification'] = 'Low'\n",
    "\n",
    "result['CauseOfClassification'] = result['Group']\n",
    "\n",
    "result['SourceName'] = 'International Agency for Research on Cancer'\n",
    "result['SourceURL'] = 'https://monographs.iarc.who.int/list-of-classifications'\n",
    "\n",
    "result = result.drop(['Group','NAME OR SYNONYM'], axis=1)\n",
    "result.rename(columns = {'CASRN':'CAS Number'}, inplace = True)\n",
    "\n",
    "result.head(2)"
   ]
  },
  {
   "cell_type": "code",
   "execution_count": null,
   "id": "6b096e9e",
   "metadata": {},
   "outputs": [],
   "source": [
    "result.to_csv('Y:/delete/Reugulatory Assessment.csv',index=False,mode='a',header=False)"
   ]
  },
  {
   "cell_type": "code",
   "execution_count": 37,
   "id": "20d3d224",
   "metadata": {},
   "outputs": [
    {
     "name": "stdout",
     "output_type": "stream",
     "text": [
      "The total time taken is 0:31:17.877340\n"
     ]
    }
   ],
   "source": [
    "end_time = datetime.now()\n",
    "print('The total time taken is', (end_time - start_time))"
   ]
  }
 ],
 "metadata": {
  "kernelspec": {
   "display_name": "Python 3 (ipykernel)",
   "language": "python",
   "name": "python3"
  },
  "language_info": {
   "codemirror_mode": {
    "name": "ipython",
    "version": 3
   },
   "file_extension": ".py",
   "mimetype": "text/x-python",
   "name": "python",
   "nbconvert_exporter": "python",
   "pygments_lexer": "ipython3",
   "version": "3.9.6"
  }
 },
 "nbformat": 4,
 "nbformat_minor": 5
}
