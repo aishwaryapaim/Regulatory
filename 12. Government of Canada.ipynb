{
 "cells": [
  {
   "cell_type": "code",
   "execution_count": 16,
   "id": "dd20715a",
   "metadata": {},
   "outputs": [
    {
     "name": "stdout",
     "output_type": "stream",
     "text": [
      "89\n"
     ]
    }
   ],
   "source": [
    "import requests\n",
    "from bs4 import BeautifulSoup\n",
    "import re\n",
    "Register_number = []\n",
    "\n",
    "# providing url\n",
    "url = 'https://www.canada.ca/en/environment-climate-change/services/canadian-environmental-protection-act-registry/substances-list/export-control-list.html'\n",
    "  \n",
    "# creating request object\n",
    "page = requests.get(url,verify = \"Y:\\\\Python Notebooks\\\\Chubb_CA_2016.cer\")\n",
    "soup = BeautifulSoup(page.content, \"html.parser\")\n",
    "for para in soup.find_all(\"li\"):\n",
    "    string = para.get_text()\n",
    "    if re.search(\"[0-9]+-[0-9]+-[0-9]+\", string) :\n",
    "        d = re.findall(\"[0-9]+-[0-9]+-[0-9]+\", string)\n",
    "        Register_number.extend(d)\n",
    "mylist = list(dict.fromkeys(Register_number))\n",
    "print(len(mylist))"
   ]
  },
  {
   "cell_type": "code",
   "execution_count": 17,
   "id": "942d1949",
   "metadata": {},
   "outputs": [
    {
     "data": {
      "text/html": [
       "<div>\n",
       "<style scoped>\n",
       "    .dataframe tbody tr th:only-of-type {\n",
       "        vertical-align: middle;\n",
       "    }\n",
       "\n",
       "    .dataframe tbody tr th {\n",
       "        vertical-align: top;\n",
       "    }\n",
       "\n",
       "    .dataframe thead th {\n",
       "        text-align: right;\n",
       "    }\n",
       "</style>\n",
       "<table border=\"1\" class=\"dataframe\">\n",
       "  <thead>\n",
       "    <tr style=\"text-align: right;\">\n",
       "      <th></th>\n",
       "      <th>CAS Number</th>\n",
       "      <th>value</th>\n",
       "    </tr>\n",
       "  </thead>\n",
       "  <tbody>\n",
       "    <tr>\n",
       "      <th>0</th>\n",
       "      <td>2385-85-5</td>\n",
       "      <td>NaN</td>\n",
       "    </tr>\n",
       "    <tr>\n",
       "      <th>1</th>\n",
       "      <td>15972-60-8</td>\n",
       "      <td>NaN</td>\n",
       "    </tr>\n",
       "  </tbody>\n",
       "</table>\n",
       "</div>"
      ],
      "text/plain": [
       "   CAS Number value\n",
       "0   2385-85-5   NaN\n",
       "1  15972-60-8   NaN"
      ]
     },
     "execution_count": 17,
     "metadata": {},
     "output_type": "execute_result"
    }
   ],
   "source": [
    "dataset = pd.DataFrame(mylist,columns =['CAS Number'])\n",
    "CAS = pd.read_excel('Y:/delete/Chemical CAS.xlsx')\n",
    "CAS['value'] = 'Not in list'\n",
    "CAS = CAS.applymap(lambda x: x.strip() if isinstance(x, str) else x)\n",
    "\n",
    "result = pd.merge(dataset, CAS, how=\"outer\", on=\"CAS Number\")\n",
    "result.head(2)"
   ]
  },
  {
   "cell_type": "code",
   "execution_count": 18,
   "id": "a5bf700c",
   "metadata": {},
   "outputs": [
    {
     "data": {
      "text/html": [
       "<div>\n",
       "<style scoped>\n",
       "    .dataframe tbody tr th:only-of-type {\n",
       "        vertical-align: middle;\n",
       "    }\n",
       "\n",
       "    .dataframe tbody tr th {\n",
       "        vertical-align: top;\n",
       "    }\n",
       "\n",
       "    .dataframe thead th {\n",
       "        text-align: right;\n",
       "    }\n",
       "</style>\n",
       "<table border=\"1\" class=\"dataframe\">\n",
       "  <thead>\n",
       "    <tr style=\"text-align: right;\">\n",
       "      <th></th>\n",
       "      <th>CAS Number</th>\n",
       "      <th>Jurisdiction</th>\n",
       "      <th>RegulatoryAgency</th>\n",
       "      <th>TypeOfRegulation</th>\n",
       "      <th>Criteria</th>\n",
       "      <th>Description</th>\n",
       "      <th>HazardClassification</th>\n",
       "      <th>CauseOfClassification</th>\n",
       "      <th>SourceName</th>\n",
       "      <th>SourceURL</th>\n",
       "    </tr>\n",
       "  </thead>\n",
       "  <tbody>\n",
       "    <tr>\n",
       "      <th>0</th>\n",
       "      <td>2385-85-5</td>\n",
       "      <td>Canada</td>\n",
       "      <td>Canada Environmental Protection Agency (CEPA)</td>\n",
       "      <td>Trade</td>\n",
       "      <td>Export banned or regulated</td>\n",
       "      <td>Export is banned or regulated</td>\n",
       "      <td>High</td>\n",
       "      <td>On the Export Control List</td>\n",
       "      <td>Government of Canada</td>\n",
       "      <td>https://www.canada.ca/en/environment-climate-c...</td>\n",
       "    </tr>\n",
       "    <tr>\n",
       "      <th>1</th>\n",
       "      <td>15972-60-8</td>\n",
       "      <td>Canada</td>\n",
       "      <td>Canada Environmental Protection Agency (CEPA)</td>\n",
       "      <td>Trade</td>\n",
       "      <td>Export banned or regulated</td>\n",
       "      <td>Export is banned or regulated</td>\n",
       "      <td>High</td>\n",
       "      <td>On the Export Control List</td>\n",
       "      <td>Government of Canada</td>\n",
       "      <td>https://www.canada.ca/en/environment-climate-c...</td>\n",
       "    </tr>\n",
       "  </tbody>\n",
       "</table>\n",
       "</div>"
      ],
      "text/plain": [
       "   CAS Number Jurisdiction                               RegulatoryAgency  \\\n",
       "0   2385-85-5       Canada  Canada Environmental Protection Agency (CEPA)   \n",
       "1  15972-60-8       Canada  Canada Environmental Protection Agency (CEPA)   \n",
       "\n",
       "  TypeOfRegulation                    Criteria                    Description  \\\n",
       "0            Trade  Export banned or regulated  Export is banned or regulated   \n",
       "1            Trade  Export banned or regulated  Export is banned or regulated   \n",
       "\n",
       "  HazardClassification       CauseOfClassification            SourceName  \\\n",
       "0                 High  On the Export Control List  Government of Canada   \n",
       "1                 High  On the Export Control List  Government of Canada   \n",
       "\n",
       "                                           SourceURL  \n",
       "0  https://www.canada.ca/en/environment-climate-c...  \n",
       "1  https://www.canada.ca/en/environment-climate-c...  "
      ]
     },
     "execution_count": 18,
     "metadata": {},
     "output_type": "execute_result"
    }
   ],
   "source": [
    "result['Jurisdiction'] = 'Canada'\n",
    "result['RegulatoryAgency'] = 'Canada Environmental Protection Agency (CEPA)'\n",
    "result['TypeOfRegulation'] = 'Trade'\n",
    "result['Criteria'] = 'Export banned or regulated'\n",
    "\n",
    "\n",
    "result['Description'] = 'Export is banned or regulated'\n",
    "result.loc[result['value'] == 'Not in list', 'Description'] = 'Export is not banned or regulated'\n",
    "\n",
    "result['HazardClassification'] = 'High'\n",
    "result.loc[result['value'] == 'Not in list', 'HazardClassification'] = 'Low'\n",
    "\n",
    "result['CauseOfClassification'] = 'On the Export Control List'\n",
    "result.loc[result['value'] == 'Not in list', 'CauseOfClassification'] = 'Not on Export COotrol List'\n",
    "\n",
    "result['SourceName'] = 'Government of Canada'\n",
    "result['SourceURL'] = 'https://www.canada.ca/en/environment-climate-change/services/canadian-environmental-protection-act-registry/substances-list/export-control-list.html'\n",
    "\n",
    "result = result.drop(['value'], axis=1)\n",
    "\n",
    "result.head(2)"
   ]
  },
  {
   "cell_type": "code",
   "execution_count": null,
   "id": "d9b19c7e",
   "metadata": {},
   "outputs": [],
   "source": [
    "result.to_csv('Y:/delete/Reugulatory Assessment.csv',index=False,mode='a',header=False)"
   ]
  },
  {
   "cell_type": "code",
   "execution_count": 19,
   "id": "b3ff239d",
   "metadata": {},
   "outputs": [
    {
     "name": "stdout",
     "output_type": "stream",
     "text": [
      "The total time taken is 0:12:36.190327\n"
     ]
    }
   ],
   "source": [
    "end_time = datetime.now()\n",
    "print('The total time taken is', (end_time - start_time))"
   ]
  }
 ],
 "metadata": {
  "kernelspec": {
   "display_name": "Python 3 (ipykernel)",
   "language": "python",
   "name": "python3"
  },
  "language_info": {
   "codemirror_mode": {
    "name": "ipython",
    "version": 3
   },
   "file_extension": ".py",
   "mimetype": "text/x-python",
   "name": "python",
   "nbconvert_exporter": "python",
   "pygments_lexer": "ipython3",
   "version": "3.9.6"
  }
 },
 "nbformat": 4,
 "nbformat_minor": 5
}
