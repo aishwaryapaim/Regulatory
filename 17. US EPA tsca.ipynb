{
 "cells": [
  {
   "cell_type": "code",
   "execution_count": 1,
   "id": "2f6869ae",
   "metadata": {},
   "outputs": [],
   "source": [
    "from selenium import webdriver\n",
    "import time\n",
    "from selenium.webdriver.common.by import By\n",
    "from selenium.webdriver.chrome.service import Service\n",
    "from selenium.webdriver.chrome.options import Options\n",
    "import pandas as pd\n",
    "from datetime import datetime\n",
    "import os\n",
    "import tabula\n",
    "from zipfile import ZipFile\n",
    "import glob"
   ]
  },
  {
   "cell_type": "code",
   "execution_count": 2,
   "id": "f0ea5782",
   "metadata": {},
   "outputs": [],
   "source": [
    "start_time = datetime.now()"
   ]
  },
  {
   "cell_type": "code",
   "execution_count": 3,
   "id": "99b2ee26",
   "metadata": {},
   "outputs": [],
   "source": [
    "dir = 'Y:\\\\delete\\\\US EPA'\n",
    "for f in os.listdir(dir):\n",
    "    os.remove(os.path.join(dir, f))"
   ]
  },
  {
   "cell_type": "code",
   "execution_count": 4,
   "id": "a898f392",
   "metadata": {},
   "outputs": [],
   "source": [
    "ser = Service(\"C:/Users/AIMPAI0/Downloads/chromedriver.exe\")\n",
    "op = webdriver.ChromeOptions()\n",
    "prefs = {\"download.default_directory\" : \"Y:\\\\delete\\\\US EPA\",\"plugins.always_open_pdf_externally\": True}\n",
    "op.add_experimental_option(\"prefs\",prefs)\n",
    "driver = webdriver.Chrome(service=ser, options=op)\n",
    "driver.maximize_window()  \n",
    "driver.get(\"https://www.epa.gov/tsca-inventory/how-access-tsca-inventory#download\")\n",
    "driver.implicitly_wait(5)\n",
    "driver.find_element(by=By.XPATH, value='//*[@id=\"main\"]/div/div[1]/div[2]/div[1]/article/div[2]/div/p[6]/a').click()\n",
    "time.sleep(10)\n",
    "driver.close()"
   ]
  },
  {
   "cell_type": "code",
   "execution_count": 5,
   "id": "4d2d8617",
   "metadata": {},
   "outputs": [
    {
     "name": "stdout",
     "output_type": "stream",
     "text": [
      "File Name                                             Modified             Size\n",
      "TSCAINV_202202.csv                             2022-02-15 10:18:24      9286342\n",
      "PMNACC_202202.csv                              2022-02-15 10:13:58      2021763\n",
      "Extracting all the files now...\n",
      "Done!\n"
     ]
    }
   ],
   "source": [
    "file_name = \"Y:/delete/US EPA/csv-non-cbi-tsca-inventory-022022.zip\"\n",
    "with ZipFile(file_name, 'r') as zip:\n",
    "    # printing all the contents of the zip file\n",
    "    zip.printdir()\n",
    "  \n",
    "    # extracting all the files\n",
    "    print('Extracting all the files now...')\n",
    "    zip.extractall('Y:/delete/US EPA')\n",
    "    print('Done!')"
   ]
  },
  {
   "cell_type": "code",
   "execution_count": 11,
   "id": "6115f5c2",
   "metadata": {},
   "outputs": [],
   "source": [
    "path = 'Y:\\\\delete\\\\US EPA'\n",
    "csv_files = glob.glob(os.path.join(path, \"TSCA*.csv\"))\n",
    "for f in csv_files:\n",
    "    dataset = pd.read_csv(f)\n",
    "dataset = dataset[['CASRN']]\n",
    "dataset = dataset.applymap(lambda x: x.strip() if isinstance(x, str) else x)\n",
    "dataset.rename(columns = {'CASRN':'CAS Number'}, inplace = True)\n",
    "\n",
    "CAS = pd.read_excel('Y:/delete/Chemical CAS.xlsx')\n",
    "CAS['value'] = 'Concluded'\n",
    "CAS = CAS.applymap(lambda x: x.strip() if isinstance(x, str) else x)"
   ]
  },
  {
   "cell_type": "code",
   "execution_count": 20,
   "id": "6dd580a6",
   "metadata": {},
   "outputs": [],
   "source": [
    "result = pd.merge(dataset, CAS, how=\"outer\", on=\"CAS Number\")"
   ]
  },
  {
   "cell_type": "code",
   "execution_count": 22,
   "id": "42d251f7",
   "metadata": {},
   "outputs": [
    {
     "data": {
      "text/html": [
       "<div>\n",
       "<style scoped>\n",
       "    .dataframe tbody tr th:only-of-type {\n",
       "        vertical-align: middle;\n",
       "    }\n",
       "\n",
       "    .dataframe tbody tr th {\n",
       "        vertical-align: top;\n",
       "    }\n",
       "\n",
       "    .dataframe thead th {\n",
       "        text-align: right;\n",
       "    }\n",
       "</style>\n",
       "<table border=\"1\" class=\"dataframe\">\n",
       "  <thead>\n",
       "    <tr style=\"text-align: right;\">\n",
       "      <th></th>\n",
       "      <th>CAS Number</th>\n",
       "      <th>value</th>\n",
       "      <th>Jurisdiction</th>\n",
       "      <th>RegulatoryAgency</th>\n",
       "      <th>TypeOfRegulation</th>\n",
       "      <th>Criteria</th>\n",
       "      <th>Description</th>\n",
       "      <th>HazardClassification</th>\n",
       "      <th>CauseOfClassification</th>\n",
       "      <th>SourceName</th>\n",
       "      <th>SourceURL</th>\n",
       "    </tr>\n",
       "  </thead>\n",
       "  <tbody>\n",
       "    <tr>\n",
       "      <th>0</th>\n",
       "      <td>50-00-0</td>\n",
       "      <td>NaN</td>\n",
       "      <td>US</td>\n",
       "      <td>Environment Protection Aganecy (EPA)</td>\n",
       "      <td>Trade</td>\n",
       "      <td>Relevant regulatory flag</td>\n",
       "      <td>TSCA flag relating to import/export</td>\n",
       "      <td>High</td>\n",
       "      <td>Has TCSA flag S,PMN, TP,SP,T,R,5E,5F,12C</td>\n",
       "      <td>US EPA</td>\n",
       "      <td>https://www.epa.gov/tsca-inventory/how-access-...</td>\n",
       "    </tr>\n",
       "    <tr>\n",
       "      <th>1</th>\n",
       "      <td>50-01-1</td>\n",
       "      <td>NaN</td>\n",
       "      <td>US</td>\n",
       "      <td>Environment Protection Aganecy (EPA)</td>\n",
       "      <td>Trade</td>\n",
       "      <td>Relevant regulatory flag</td>\n",
       "      <td>TSCA flag relating to import/export</td>\n",
       "      <td>High</td>\n",
       "      <td>Has TCSA flag S,PMN, TP,SP,T,R,5E,5F,12C</td>\n",
       "      <td>US EPA</td>\n",
       "      <td>https://www.epa.gov/tsca-inventory/how-access-...</td>\n",
       "    </tr>\n",
       "  </tbody>\n",
       "</table>\n",
       "</div>"
      ],
      "text/plain": [
       "  CAS Number value Jurisdiction                      RegulatoryAgency  \\\n",
       "0    50-00-0   NaN           US  Environment Protection Aganecy (EPA)   \n",
       "1    50-01-1   NaN           US  Environment Protection Aganecy (EPA)   \n",
       "\n",
       "  TypeOfRegulation                  Criteria  \\\n",
       "0            Trade  Relevant regulatory flag   \n",
       "1            Trade  Relevant regulatory flag   \n",
       "\n",
       "                           Description HazardClassification  \\\n",
       "0  TSCA flag relating to import/export                 High   \n",
       "1  TSCA flag relating to import/export                 High   \n",
       "\n",
       "                      CauseOfClassification SourceName  \\\n",
       "0  Has TCSA flag S,PMN, TP,SP,T,R,5E,5F,12C     US EPA   \n",
       "1  Has TCSA flag S,PMN, TP,SP,T,R,5E,5F,12C     US EPA   \n",
       "\n",
       "                                           SourceURL  \n",
       "0  https://www.epa.gov/tsca-inventory/how-access-...  \n",
       "1  https://www.epa.gov/tsca-inventory/how-access-...  "
      ]
     },
     "execution_count": 22,
     "metadata": {},
     "output_type": "execute_result"
    }
   ],
   "source": [
    "result['Jurisdiction'] = 'US'\n",
    "result['RegulatoryAgency'] = 'Environment Protection Aganecy (EPA)'\n",
    "result['TypeOfRegulation'] = 'Trade'\n",
    "result['Criteria'] = 'Relevant regulatory flag'\n",
    "\n",
    "result['Description'] = 'TSCA flag relating to import/export'\n",
    "result.loc[result['value'] == 'Concluded', 'Description'] = 'No relevantTSCA flag'\n",
    "\n",
    "result['HazardClassification'] = 'High'\n",
    "result.loc[result['value'] == 'Concluded', 'HazardClassification'] = 'Low'\n",
    "\n",
    "result['CauseOfClassification'] = 'Has TCSA flag S,PMN, TP,SP,T,R,5E,5F,12C'\n",
    "result.loc[result['value'] == 'Concluded', 'CauseOfClassification'] = 'Other TSCA flag or no TSCA flag'\n",
    "\n",
    "result['SourceName'] = 'US EPA'\n",
    "result['SourceURL'] = 'https://www.epa.gov/tsca-inventory/how-access-tsca-inventory#download'\n",
    "\n",
    "result.head(2)"
   ]
  },
  {
   "cell_type": "code",
   "execution_count": null,
   "id": "435fbfb8",
   "metadata": {},
   "outputs": [],
   "source": [
    "result.to_csv('Y:/delete/Reugulatory Assessment.csv',index=False,mode='a',header=False)"
   ]
  },
  {
   "cell_type": "code",
   "execution_count": 23,
   "id": "dfc8d062",
   "metadata": {},
   "outputs": [
    {
     "name": "stdout",
     "output_type": "stream",
     "text": [
      "The total time taken is 0:09:49.887757\n"
     ]
    }
   ],
   "source": [
    "end_time = datetime.now()\n",
    "print('The total time taken is', (end_time - start_time))"
   ]
  }
 ],
 "metadata": {
  "kernelspec": {
   "display_name": "Python 3 (ipykernel)",
   "language": "python",
   "name": "python3"
  },
  "language_info": {
   "codemirror_mode": {
    "name": "ipython",
    "version": 3
   },
   "file_extension": ".py",
   "mimetype": "text/x-python",
   "name": "python",
   "nbconvert_exporter": "python",
   "pygments_lexer": "ipython3",
   "version": "3.9.6"
  }
 },
 "nbformat": 4,
 "nbformat_minor": 5
}
