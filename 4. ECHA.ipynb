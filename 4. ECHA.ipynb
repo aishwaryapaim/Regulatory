{
 "cells": [
  {
   "cell_type": "code",
   "execution_count": 5,
   "id": "576d5134",
   "metadata": {},
   "outputs": [],
   "source": [
    "from selenium import webdriver\n",
    "import time\n",
    "from selenium.webdriver.common.by import By\n",
    "from selenium.webdriver.chrome.service import Service\n",
    "from selenium.webdriver.chrome.options import Options\n",
    "import pandas as pd\n",
    "from datetime import datetime\n",
    "import os\n",
    "import glob "
   ]
  },
  {
   "cell_type": "code",
   "execution_count": 6,
   "id": "43ea2630",
   "metadata": {},
   "outputs": [],
   "source": [
    "start_time = datetime.now()"
   ]
  },
  {
   "cell_type": "code",
   "execution_count": 7,
   "id": "e62ec142",
   "metadata": {},
   "outputs": [],
   "source": [
    "dir = 'Y:\\\\delete\\\\ECHA'\n",
    "for f in os.listdir(dir):\n",
    "    os.remove(os.path.join(dir, f))"
   ]
  },
  {
   "cell_type": "code",
   "execution_count": 8,
   "id": "dd820c58",
   "metadata": {},
   "outputs": [],
   "source": [
    "def handle_popup():\n",
    "    try:\n",
    "        driver.find_elements(by=By.XPATH, value='//*[@id=\"_viewsubstances_WAR_echarevsubstanceportlet_acceptDisclaimerButton\"]/span')[0].click()\n",
    "    except:\n",
    "        pass\n",
    "    return None"
   ]
  },
  {
   "cell_type": "code",
   "execution_count": 9,
   "id": "3057d019",
   "metadata": {},
   "outputs": [],
   "source": [
    "# create webdriver object\n",
    "ser = Service(\"C:/Users/AIMPAI0/Downloads/chromedriver.exe\")\n",
    "op = webdriver.ChromeOptions()\n",
    "prefs = {\"download.default_directory\" : \"Y:\\\\delete\\\\ECHA\"}\n",
    "op.add_experimental_option(\"prefs\",prefs)\n",
    "driver = webdriver.Chrome(service=ser, options=op)\n",
    "driver.maximize_window()  \n",
    "for i in range(1,3):\n",
    "\n",
    "    driver.get(\"https://echa.europa.eu/information-on-chemicals/pic/chemicals\")\n",
    "    driver.implicitly_wait(5)\n",
    "    handle_popup()\n",
    "    r =driver.find_elements(by=By.XPATH, value='//*[@id=\"_chemicals_WAR_echapicportlet_limitationId\"]/option')\n",
    "    r[i].click()\n",
    "    driver.find_element(by=By.XPATH, value='//*[@id=\"_chemicals_WAR_echapicportlet_magnifierFieldName\"]').click()\n",
    "    driver.implicitly_wait(5)\n",
    "    handle_popup()\n",
    "    driver.implicitly_wait(5)\n",
    "    handle_popup()\n",
    "    driver.find_element(by=By.XPATH, value='//*[@id=\"_chemicals_WAR_echapicportlet_exportCsvButton\"]/span').click()\n",
    "    #WebDriverWait(self.driver, 5).until(EC.element_to_be_clickable((By.XPATH, self.helper.get_xpath('//*[@id=\"_chemicals_WAR_echapicportlet_exportCsvButton\"]/span')))).click()\n"
   ]
  },
  {
   "cell_type": "code",
   "execution_count": 37,
   "id": "63d3f953",
   "metadata": {},
   "outputs": [
    {
     "data": {
      "text/html": [
       "<div>\n",
       "<style scoped>\n",
       "    .dataframe tbody tr th:only-of-type {\n",
       "        vertical-align: middle;\n",
       "    }\n",
       "\n",
       "    .dataframe tbody tr th {\n",
       "        vertical-align: top;\n",
       "    }\n",
       "\n",
       "    .dataframe thead th {\n",
       "        text-align: right;\n",
       "    }\n",
       "</style>\n",
       "<table border=\"1\" class=\"dataframe\">\n",
       "  <thead>\n",
       "    <tr style=\"text-align: right;\">\n",
       "      <th></th>\n",
       "      <th>CAS Number</th>\n",
       "      <th>Status</th>\n",
       "    </tr>\n",
       "  </thead>\n",
       "  <tbody>\n",
       "    <tr>\n",
       "      <th>0</th>\n",
       "      <td>3542-36-7</td>\n",
       "      <td>Severly Restricted</td>\n",
       "    </tr>\n",
       "    <tr>\n",
       "      <th>1</th>\n",
       "      <td>93776-12-6</td>\n",
       "      <td>Severly Restricted</td>\n",
       "    </tr>\n",
       "  </tbody>\n",
       "</table>\n",
       "</div>"
      ],
      "text/plain": [
       "   CAS Number              Status\n",
       "0   3542-36-7  Severly Restricted\n",
       "1  93776-12-6  Severly Restricted"
      ]
     },
     "execution_count": 37,
     "metadata": {},
     "output_type": "execute_result"
    }
   ],
   "source": [
    "path = 'Y:\\\\delete\\\\ECHA'\n",
    "filenames = glob.glob(path + \"\\*.csv\")\n",
    "df= []\n",
    "for f in filenames:\n",
    "    dataset = pd.read_csv(f)\n",
    "    if \"1\" in f:\n",
    "        dataset['Status'] = 'Severly Restricted'\n",
    "    else:\n",
    "        dataset['Status'] = 'Banned'\n",
    "    df.append(dataset)\n",
    "dataset = pd.concat(df, axis=0, ignore_index=True)\n",
    "dataset = dataset[['CAS_No','Status']]\n",
    "dataset.rename(columns = {'CAS_No':'CAS Number'}, inplace = True)\n",
    "dataset = dataset.applymap(lambda x: x.strip() if isinstance(x, str) else x)\n",
    "\n",
    "CAS = pd.read_excel('Y:/delete/Chemical CAS.xlsx')\n",
    "CAS['value'] = 'Concluded'\n",
    "CAS = CAS.applymap(lambda x: x.strip() if isinstance(x, str) else x)\n",
    "\n",
    "result = pd.merge(dataset, CAS, how=\"outer\", on=\"CAS Number\")\n",
    "result.Status.fillna(result.value, inplace=True)\n",
    "del result['value']\n",
    "result.head(2)\n"
   ]
  },
  {
   "cell_type": "code",
   "execution_count": 38,
   "id": "722ff713",
   "metadata": {},
   "outputs": [
    {
     "data": {
      "text/html": [
       "<div>\n",
       "<style scoped>\n",
       "    .dataframe tbody tr th:only-of-type {\n",
       "        vertical-align: middle;\n",
       "    }\n",
       "\n",
       "    .dataframe tbody tr th {\n",
       "        vertical-align: top;\n",
       "    }\n",
       "\n",
       "    .dataframe thead th {\n",
       "        text-align: right;\n",
       "    }\n",
       "</style>\n",
       "<table border=\"1\" class=\"dataframe\">\n",
       "  <thead>\n",
       "    <tr style=\"text-align: right;\">\n",
       "      <th></th>\n",
       "      <th>CAS Number</th>\n",
       "      <th>Jurisdiction</th>\n",
       "      <th>RegulatoryAgency</th>\n",
       "      <th>TypeOfRegulation</th>\n",
       "      <th>Criteria</th>\n",
       "      <th>Description</th>\n",
       "      <th>HazardClassification</th>\n",
       "      <th>CauseOfClassification</th>\n",
       "      <th>SourceName</th>\n",
       "      <th>SourceURL</th>\n",
       "    </tr>\n",
       "  </thead>\n",
       "  <tbody>\n",
       "    <tr>\n",
       "      <th>0</th>\n",
       "      <td>3542-36-7</td>\n",
       "      <td>Europe</td>\n",
       "      <td>European Chemicals Agency (ECHA)</td>\n",
       "      <td>Health</td>\n",
       "      <td>Endocrine Disruption</td>\n",
       "      <td>No restriction</td>\n",
       "      <td>High</td>\n",
       "      <td>Use limitation - severely restricted</td>\n",
       "      <td>European Chemicals Agency</td>\n",
       "      <td>http://echa.europa.eu/nl/ed-assessment</td>\n",
       "    </tr>\n",
       "    <tr>\n",
       "      <th>1</th>\n",
       "      <td>93776-12-6</td>\n",
       "      <td>Europe</td>\n",
       "      <td>European Chemicals Agency (ECHA)</td>\n",
       "      <td>Health</td>\n",
       "      <td>Endocrine Disruption</td>\n",
       "      <td>No restriction</td>\n",
       "      <td>High</td>\n",
       "      <td>Use limitation - severely restricted</td>\n",
       "      <td>European Chemicals Agency</td>\n",
       "      <td>http://echa.europa.eu/nl/ed-assessment</td>\n",
       "    </tr>\n",
       "  </tbody>\n",
       "</table>\n",
       "</div>"
      ],
      "text/plain": [
       "   CAS Number Jurisdiction                  RegulatoryAgency TypeOfRegulation  \\\n",
       "0   3542-36-7       Europe  European Chemicals Agency (ECHA)           Health   \n",
       "1  93776-12-6       Europe  European Chemicals Agency (ECHA)           Health   \n",
       "\n",
       "               Criteria     Description HazardClassification  \\\n",
       "0  Endocrine Disruption  No restriction                 High   \n",
       "1  Endocrine Disruption  No restriction                 High   \n",
       "\n",
       "                  CauseOfClassification                 SourceName  \\\n",
       "0  Use limitation - severely restricted  European Chemicals Agency   \n",
       "1  Use limitation - severely restricted  European Chemicals Agency   \n",
       "\n",
       "                                SourceURL  \n",
       "0  http://echa.europa.eu/nl/ed-assessment  \n",
       "1  http://echa.europa.eu/nl/ed-assessment  "
      ]
     },
     "execution_count": 38,
     "metadata": {},
     "output_type": "execute_result"
    }
   ],
   "source": [
    "result['Jurisdiction'] = 'Europe'\n",
    "result['RegulatoryAgency'] = 'European Chemicals Agency (ECHA)'\n",
    "result['TypeOfRegulation'] = 'Health'\n",
    "result['Criteria'] = 'Endocrine Disruption'\n",
    "\n",
    "result['Description'] = 'No restriction'\n",
    "result.loc[result['Status'] == 'Severly RestrictedSeverly Restricted', 'Description'] = 'Severely restricted for some applications'\n",
    "result.loc[result['Status'] == 'Banned', 'Description'] = 'Banned for some applications'\n",
    "\n",
    "result['HazardClassification'] = 'Low'\n",
    "result.loc[result['Status'] == 'Severly Restricted', 'HazardClassification'] = 'High'\n",
    "result.loc[result['Status'] == 'Banned', 'HazardClassification'] = 'Moderate'\n",
    "\n",
    "result['CauseOfClassification'] = 'No use limitaion'\n",
    "result.loc[result['Status'] == 'Severly Restricted', 'CauseOfClassification'] = 'Use limitation - severely restricted'\n",
    "result.loc[result['Status'] == 'Banned', 'CauseOfClassification'] = 'Use limitation - banned'\n",
    "\n",
    "result['SourceName'] = 'European Chemicals Agency'\n",
    "result['SourceURL'] = 'http://echa.europa.eu/nl/ed-assessment'\n",
    "result = result.drop(['Status'], axis=1)\n",
    "\n",
    "result.head(2)"
   ]
  },
  {
   "cell_type": "code",
   "execution_count": null,
   "id": "e306a344",
   "metadata": {},
   "outputs": [],
   "source": [
    "results.to_csv('Y:/delete/Reugulatory Assessment.csv',index=False,mode='a',header=False)"
   ]
  },
  {
   "cell_type": "code",
   "execution_count": 39,
   "id": "44a46382",
   "metadata": {},
   "outputs": [
    {
     "name": "stdout",
     "output_type": "stream",
     "text": [
      "The total time taken is 0:18:17.016489\n"
     ]
    }
   ],
   "source": [
    "end_time = datetime.now()\n",
    "print('The total time taken is', (end_time - start_time))"
   ]
  }
 ],
 "metadata": {
  "kernelspec": {
   "display_name": "Python 3 (ipykernel)",
   "language": "python",
   "name": "python3"
  },
  "language_info": {
   "codemirror_mode": {
    "name": "ipython",
    "version": 3
   },
   "file_extension": ".py",
   "mimetype": "text/x-python",
   "name": "python",
   "nbconvert_exporter": "python",
   "pygments_lexer": "ipython3",
   "version": "3.9.6"
  }
 },
 "nbformat": 4,
 "nbformat_minor": 5
}
