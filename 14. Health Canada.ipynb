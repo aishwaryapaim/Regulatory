{
 "cells": [
  {
   "cell_type": "code",
   "execution_count": 5,
   "id": "24da9888",
   "metadata": {},
   "outputs": [],
   "source": [
    "import requests \n",
    "from bs4 import BeautifulSoup as bs \n",
    "import re\n",
    "from datetime import datetime\n",
    "import pandas as pd"
   ]
  },
  {
   "cell_type": "code",
   "execution_count": 2,
   "id": "6d1f6a8c",
   "metadata": {},
   "outputs": [],
   "source": [
    "start_time = datetime.now()"
   ]
  },
  {
   "cell_type": "code",
   "execution_count": 3,
   "id": "78db143b",
   "metadata": {},
   "outputs": [],
   "source": [
    "r = requests.get('https://www.canada.ca/en/health-canada/services/consumer-product-safety/cosmetics/cosmetic-ingredient-hotlist-prohibited-restricted-ingredients/hotlist.html',verify = \"Y:\\\\Python Notebooks\\\\Chubb_CA_2016.cer\") \n",
    "\n",
    "prohibited_register_number = []\n",
    "restricted_register_number = []\n",
    "\n",
    "\n",
    "soup = bs(r.content) \n",
    "data = []\n",
    "table_body = soup.findAll('table')[0]\n",
    "string = table_body.get_text()\n",
    "if re.search(\"[0-9]+-[0-9]+-[0-9]+\", string) and  \"CAS\" in string:\n",
    "    d = re.findall(\"[0-9]+-[0-9]+-[0-9]+\", string)\n",
    "    prohibited_register_number.extend(d)\n",
    "    \n",
    "table_body = soup.findAll('table')[1]\n",
    "string = table_body.get_text()\n",
    "if re.search(\"[0-9]+-[0-9]+-[0-9]+\", string) and  \"CAS\" in string:\n",
    "    d = re.findall(\"[0-9]+-[0-9]+-[0-9]+\", string)\n",
    "    restricted_register_number.extend(d)"
   ]
  },
  {
   "cell_type": "code",
   "execution_count": 10,
   "id": "ab658b3d",
   "metadata": {},
   "outputs": [
    {
     "data": {
      "text/html": [
       "<div>\n",
       "<style scoped>\n",
       "    .dataframe tbody tr th:only-of-type {\n",
       "        vertical-align: middle;\n",
       "    }\n",
       "\n",
       "    .dataframe tbody tr th {\n",
       "        vertical-align: top;\n",
       "    }\n",
       "\n",
       "    .dataframe thead th {\n",
       "        text-align: right;\n",
       "    }\n",
       "</style>\n",
       "<table border=\"1\" class=\"dataframe\">\n",
       "  <thead>\n",
       "    <tr style=\"text-align: right;\">\n",
       "      <th></th>\n",
       "      <th>CAS Number</th>\n",
       "      <th>type</th>\n",
       "    </tr>\n",
       "  </thead>\n",
       "  <tbody>\n",
       "    <tr>\n",
       "      <th>0</th>\n",
       "      <td>106-88-7</td>\n",
       "      <td>Prohibited</td>\n",
       "    </tr>\n",
       "    <tr>\n",
       "      <th>1</th>\n",
       "      <td>106-99-0</td>\n",
       "      <td>Prohibited</td>\n",
       "    </tr>\n",
       "  </tbody>\n",
       "</table>\n",
       "</div>"
      ],
      "text/plain": [
       "  CAS Number        type\n",
       "0   106-88-7  Prohibited\n",
       "1   106-99-0  Prohibited"
      ]
     },
     "execution_count": 10,
     "metadata": {},
     "output_type": "execute_result"
    }
   ],
   "source": [
    "df1 = pd.DataFrame(prohibited_register_number,columns=['CAS'])\n",
    "df1['type'] = 'Prohibited'\n",
    "df2 = pd.DataFrame(restricted_register_number,columns=['CAS'])\n",
    "df2['type'] = 'Restricted'\n",
    "frames = [df1, df2]\n",
    "dataset = pd.concat(frames)\n",
    "dataset.rename(columns = {'CAS':'CAS Number'}, inplace = True)\n",
    "dataset.head(2)"
   ]
  },
  {
   "cell_type": "code",
   "execution_count": 15,
   "id": "7f9d743a",
   "metadata": {},
   "outputs": [
    {
     "data": {
      "text/html": [
       "<div>\n",
       "<style scoped>\n",
       "    .dataframe tbody tr th:only-of-type {\n",
       "        vertical-align: middle;\n",
       "    }\n",
       "\n",
       "    .dataframe tbody tr th {\n",
       "        vertical-align: top;\n",
       "    }\n",
       "\n",
       "    .dataframe thead th {\n",
       "        text-align: right;\n",
       "    }\n",
       "</style>\n",
       "<table border=\"1\" class=\"dataframe\">\n",
       "  <thead>\n",
       "    <tr style=\"text-align: right;\">\n",
       "      <th></th>\n",
       "      <th>CAS Number</th>\n",
       "      <th>type</th>\n",
       "    </tr>\n",
       "  </thead>\n",
       "  <tbody>\n",
       "    <tr>\n",
       "      <th>0</th>\n",
       "      <td>106-88-7</td>\n",
       "      <td>Prohibited</td>\n",
       "    </tr>\n",
       "    <tr>\n",
       "      <th>1</th>\n",
       "      <td>106-99-0</td>\n",
       "      <td>Prohibited</td>\n",
       "    </tr>\n",
       "  </tbody>\n",
       "</table>\n",
       "</div>"
      ],
      "text/plain": [
       "  CAS Number        type\n",
       "0   106-88-7  Prohibited\n",
       "1   106-99-0  Prohibited"
      ]
     },
     "execution_count": 15,
     "metadata": {},
     "output_type": "execute_result"
    }
   ],
   "source": [
    "CAS = pd.read_excel('Y:/delete/Chemical CAS.xlsx')\n",
    "CAS['value'] = 'Not prohibited'\n",
    "CAS = CAS.applymap(lambda x: x.strip() if isinstance(x, str) else x)\n",
    "result = pd.merge(dataset, CAS, how=\"outer\", on=\"CAS Number\")\n",
    "result.type.fillna(result.value, inplace=True)\n",
    "del result['value']\n",
    "result.head(2)"
   ]
  },
  {
   "cell_type": "code",
   "execution_count": 16,
   "id": "bd10ffe9",
   "metadata": {},
   "outputs": [
    {
     "data": {
      "text/html": [
       "<div>\n",
       "<style scoped>\n",
       "    .dataframe tbody tr th:only-of-type {\n",
       "        vertical-align: middle;\n",
       "    }\n",
       "\n",
       "    .dataframe tbody tr th {\n",
       "        vertical-align: top;\n",
       "    }\n",
       "\n",
       "    .dataframe thead th {\n",
       "        text-align: right;\n",
       "    }\n",
       "</style>\n",
       "<table border=\"1\" class=\"dataframe\">\n",
       "  <thead>\n",
       "    <tr style=\"text-align: right;\">\n",
       "      <th></th>\n",
       "      <th>CAS Number</th>\n",
       "      <th>Jurisdiction</th>\n",
       "      <th>RegulatoryAgency</th>\n",
       "      <th>TypeOfRegulation</th>\n",
       "      <th>Criteria</th>\n",
       "      <th>Description</th>\n",
       "      <th>HazardClassification</th>\n",
       "      <th>CauseOfClassification</th>\n",
       "      <th>SourceName</th>\n",
       "      <th>SourceURL</th>\n",
       "    </tr>\n",
       "  </thead>\n",
       "  <tbody>\n",
       "    <tr>\n",
       "      <th>0</th>\n",
       "      <td>106-88-7</td>\n",
       "      <td>Canada</td>\n",
       "      <td>Health Canada</td>\n",
       "      <td>Use</td>\n",
       "      <td>Use in cosmetics</td>\n",
       "      <td>Prohibited in cosmetics products</td>\n",
       "      <td>High</td>\n",
       "      <td>Prohibited by Health Canada</td>\n",
       "      <td>Health Canada</td>\n",
       "      <td>https://www.canada.ca/en/health-canada/service...</td>\n",
       "    </tr>\n",
       "    <tr>\n",
       "      <th>1</th>\n",
       "      <td>106-99-0</td>\n",
       "      <td>Canada</td>\n",
       "      <td>Health Canada</td>\n",
       "      <td>Use</td>\n",
       "      <td>Use in cosmetics</td>\n",
       "      <td>Prohibited in cosmetics products</td>\n",
       "      <td>High</td>\n",
       "      <td>Prohibited by Health Canada</td>\n",
       "      <td>Health Canada</td>\n",
       "      <td>https://www.canada.ca/en/health-canada/service...</td>\n",
       "    </tr>\n",
       "  </tbody>\n",
       "</table>\n",
       "</div>"
      ],
      "text/plain": [
       "  CAS Number Jurisdiction RegulatoryAgency TypeOfRegulation          Criteria  \\\n",
       "0   106-88-7       Canada    Health Canada              Use  Use in cosmetics   \n",
       "1   106-99-0       Canada    Health Canada              Use  Use in cosmetics   \n",
       "\n",
       "                        Description HazardClassification  \\\n",
       "0  Prohibited in cosmetics products                 High   \n",
       "1  Prohibited in cosmetics products                 High   \n",
       "\n",
       "         CauseOfClassification     SourceName  \\\n",
       "0  Prohibited by Health Canada  Health Canada   \n",
       "1  Prohibited by Health Canada  Health Canada   \n",
       "\n",
       "                                           SourceURL  \n",
       "0  https://www.canada.ca/en/health-canada/service...  \n",
       "1  https://www.canada.ca/en/health-canada/service...  "
      ]
     },
     "execution_count": 16,
     "metadata": {},
     "output_type": "execute_result"
    }
   ],
   "source": [
    "result['Jurisdiction'] = 'Canada'\n",
    "result['RegulatoryAgency'] = 'Health Canada'\n",
    "result['TypeOfRegulation'] = 'Use'\n",
    "result['Criteria'] = 'Use in cosmetics'\n",
    "\n",
    "\n",
    "result['Description'] = 'Prohibited in cosmetics products'\n",
    "result.loc[result['type'] == 'Restricted', 'Description'] = 'Restricted in cosmetics products'\n",
    "result.loc[result['type'] == 'Not prohibited', 'Description'] = 'Not prohibited or restricted in cosmetics products'\n",
    "\n",
    "\n",
    "result['HazardClassification'] = 'High'\n",
    "result.loc[result['type'] == 'Restricted', 'HazardClassification'] = 'Moderate'\n",
    "result.loc[result['type'] == 'Not prohibited', 'HazardClassification'] = 'Low'\n",
    "\n",
    "\n",
    "result['CauseOfClassification'] = 'Prohibited by Health Canada'\n",
    "result.loc[result['type'] == 'Restricted', 'CauseOfClassification'] = 'Restricted by Health Canada1'\n",
    "result.loc[result['type'] == 'Not prohibited', 'CauseOfClassification'] = 'Not Prohibited by Health Canada1'\n",
    "\n",
    "\n",
    "result['SourceName'] = 'Health Canada'\n",
    "result['SourceURL'] = 'https://www.canada.ca/en/health-canada/services/consumer-product-safety/cosmetics/cosmetic-ingredient-hotlist-prohibited-restricted-ingredients/hotlist.html'\n",
    "\n",
    "result = result.drop(['type'], axis=1)\n",
    "result.rename(columns = {'CAS':'CAS Number'}, inplace = True)\n",
    "\n",
    "result.head(2)"
   ]
  },
  {
   "cell_type": "code",
   "execution_count": null,
   "id": "5d5604a8",
   "metadata": {},
   "outputs": [],
   "source": [
    "result.to_csv('Y:/delete/Reugulatory Assessment.csv',index=False,mode='a',header=False)"
   ]
  },
  {
   "cell_type": "code",
   "execution_count": 17,
   "id": "563c76ec",
   "metadata": {},
   "outputs": [
    {
     "name": "stdout",
     "output_type": "stream",
     "text": [
      "The total time taken is 0:04:12.900353\n"
     ]
    }
   ],
   "source": [
    "end_time = datetime.now()\n",
    "print('The total time taken is', (end_time - start_time))"
   ]
  }
 ],
 "metadata": {
  "kernelspec": {
   "display_name": "Python 3 (ipykernel)",
   "language": "python",
   "name": "python3"
  },
  "language_info": {
   "codemirror_mode": {
    "name": "ipython",
    "version": 3
   },
   "file_extension": ".py",
   "mimetype": "text/x-python",
   "name": "python",
   "nbconvert_exporter": "python",
   "pygments_lexer": "ipython3",
   "version": "3.9.6"
  }
 },
 "nbformat": 4,
 "nbformat_minor": 5
}
