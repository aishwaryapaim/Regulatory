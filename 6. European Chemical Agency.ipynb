{
 "cells": [
  {
   "cell_type": "code",
   "execution_count": 11,
   "id": "2f6869ae",
   "metadata": {},
   "outputs": [],
   "source": [
    "from selenium import webdriver\n",
    "import time\n",
    "from selenium.webdriver.common.by import By\n",
    "from selenium.webdriver.chrome.service import Service\n",
    "from selenium.webdriver.chrome.options import Options\n",
    "import pandas as pd\n",
    "from datetime import datetime\n",
    "import os\n",
    "import glob "
   ]
  },
  {
   "cell_type": "code",
   "execution_count": 5,
   "id": "f0ea5782",
   "metadata": {},
   "outputs": [],
   "source": [
    "start_time = datetime.now()"
   ]
  },
  {
   "cell_type": "code",
   "execution_count": 6,
   "id": "99b2ee26",
   "metadata": {},
   "outputs": [],
   "source": [
    "dir = 'Y:\\\\delete\\\\European Chemicals Agency'\n",
    "for f in os.listdir(dir):\n",
    "    os.remove(os.path.join(dir, f))"
   ]
  },
  {
   "cell_type": "code",
   "execution_count": 7,
   "id": "bd2ec9b1",
   "metadata": {},
   "outputs": [],
   "source": [
    "def handle_popup():\n",
    "    try:\n",
    "        driver.find_elements(by=By.XPATH, value='//*[@id=\"_viewsubstances_WAR_echarevsubstanceportlet_acceptDisclaimerButton\"]/span')[0].click()\n",
    "    except:\n",
    "        pass\n",
    "    return None"
   ]
  },
  {
   "cell_type": "code",
   "execution_count": 8,
   "id": "a898f392",
   "metadata": {},
   "outputs": [],
   "source": [
    "ser = Service(\"C:/Users/AIMPAI0/Downloads/chromedriver.exe\")\n",
    "op = webdriver.ChromeOptions()\n",
    "prefs = {\"download.default_directory\" : \"Y:\\\\delete\\\\European Chemicals Agency\"}\n",
    "op.add_experimental_option(\"prefs\",prefs)\n",
    "driver = webdriver.Chrome(service=ser, options=op)\n",
    "driver.maximize_window()  \n",
    "driver.get(\"https://echa.europa.eu/nl/pbt\")\n",
    "driver.implicitly_wait(5)\n",
    "handle_popup()\n",
    "driver.find_element(by=By.XPATH, value='//*[@id=\"_disslists_WAR_disslistsportlet_exportButtonXLS\"]/span').click()\n",
    "time.sleep(10)\n",
    "\n",
    "driver.close()"
   ]
  },
  {
   "cell_type": "code",
   "execution_count": 19,
   "id": "f6ce1e3e",
   "metadata": {},
   "outputs": [
    {
     "name": "stderr",
     "output_type": "stream",
     "text": [
      "d:\\python3.9\\lib\\site-packages\\openpyxl\\styles\\stylesheet.py:226: UserWarning: Workbook contains no default style, apply openpyxl's default\n",
      "  warn(\"Workbook contains no default style, apply openpyxl's default\")\n"
     ]
    },
    {
     "data": {
      "text/html": [
       "<div>\n",
       "<style scoped>\n",
       "    .dataframe tbody tr th:only-of-type {\n",
       "        vertical-align: middle;\n",
       "    }\n",
       "\n",
       "    .dataframe tbody tr th {\n",
       "        vertical-align: top;\n",
       "    }\n",
       "\n",
       "    .dataframe thead th {\n",
       "        text-align: right;\n",
       "    }\n",
       "</style>\n",
       "<table border=\"1\" class=\"dataframe\">\n",
       "  <thead>\n",
       "    <tr style=\"text-align: right;\">\n",
       "      <th></th>\n",
       "      <th>CAS Number</th>\n",
       "      <th>Status</th>\n",
       "    </tr>\n",
       "  </thead>\n",
       "  <tbody>\n",
       "    <tr>\n",
       "      <th>0</th>\n",
       "      <td>1222-05-5</td>\n",
       "      <td>Under development</td>\n",
       "    </tr>\n",
       "    <tr>\n",
       "      <th>1</th>\n",
       "      <td>115-27-5</td>\n",
       "      <td>Concluded</td>\n",
       "    </tr>\n",
       "  </tbody>\n",
       "</table>\n",
       "</div>"
      ],
      "text/plain": [
       "  CAS Number             Status\n",
       "0  1222-05-5  Under development\n",
       "1   115-27-5          Concluded"
      ]
     },
     "execution_count": 19,
     "metadata": {},
     "output_type": "execute_result"
    }
   ],
   "source": [
    "path = 'Y:\\\\delete\\\\European Chemicals Agency'\n",
    "filenames = glob.glob(path + \"\\*.xlsx\")\n",
    "\n",
    "for f in filenames:\n",
    "    dataset = pd.read_excel(f,skiprows=3)\n",
    "dataset = dataset[['CAS no','Status']]\n",
    "dataset.rename(columns = {'CAS no':'CAS Number'}, inplace = True)\n",
    "dataset = dataset.loc[dataset['CAS Number'] != '-']\n",
    "dataset = dataset.applymap(lambda x: x.strip() if isinstance(x, str) else x)\n",
    "\n",
    "CAS = pd.read_excel('Y:/delete/Chemical CAS.xlsx')\n",
    "CAS['value'] = 'Concluded'\n",
    "CAS = CAS.applymap(lambda x: x.strip() if isinstance(x, str) else x)\n",
    "\n",
    "result = pd.merge(dataset, CAS, how=\"outer\", on=\"CAS Number\")\n",
    "result.Status.fillna(result.value, inplace=True)\n",
    "del result['value']\n",
    "result.head(2)"
   ]
  },
  {
   "cell_type": "code",
   "execution_count": 21,
   "id": "5f7a754f",
   "metadata": {},
   "outputs": [
    {
     "data": {
      "text/html": [
       "<div>\n",
       "<style scoped>\n",
       "    .dataframe tbody tr th:only-of-type {\n",
       "        vertical-align: middle;\n",
       "    }\n",
       "\n",
       "    .dataframe tbody tr th {\n",
       "        vertical-align: top;\n",
       "    }\n",
       "\n",
       "    .dataframe thead th {\n",
       "        text-align: right;\n",
       "    }\n",
       "</style>\n",
       "<table border=\"1\" class=\"dataframe\">\n",
       "  <thead>\n",
       "    <tr style=\"text-align: right;\">\n",
       "      <th></th>\n",
       "      <th>CAS Number</th>\n",
       "      <th>Jurisdiction</th>\n",
       "      <th>RegulatoryAgency</th>\n",
       "      <th>TypeOfRegulation</th>\n",
       "      <th>Criteria</th>\n",
       "      <th>Description</th>\n",
       "      <th>HazardClassification</th>\n",
       "      <th>CauseOfClassification</th>\n",
       "      <th>SourceName</th>\n",
       "      <th>SourceURL</th>\n",
       "    </tr>\n",
       "  </thead>\n",
       "  <tbody>\n",
       "    <tr>\n",
       "      <th>0</th>\n",
       "      <td>1222-05-5</td>\n",
       "      <td>Europe</td>\n",
       "      <td>European Chemicals Agency (ECHA)</td>\n",
       "      <td>Environmental</td>\n",
       "      <td>Persistance, bioaccumulation, toxicity (PBT)</td>\n",
       "      <td>Under PBT investigation</td>\n",
       "      <td>High</td>\n",
       "      <td>Under development under SEV,postponed,Under de...</td>\n",
       "      <td>European Chemicals Agency</td>\n",
       "      <td>https://echa.europa.eu/nl/pbt</td>\n",
       "    </tr>\n",
       "    <tr>\n",
       "      <th>1</th>\n",
       "      <td>115-27-5</td>\n",
       "      <td>Europe</td>\n",
       "      <td>European Chemicals Agency (ECHA)</td>\n",
       "      <td>Environmental</td>\n",
       "      <td>Persistance, bioaccumulation, toxicity (PBT)</td>\n",
       "      <td>Not Listed as PBT</td>\n",
       "      <td>Moderate</td>\n",
       "      <td>INI,D</td>\n",
       "      <td>European Chemicals Agency</td>\n",
       "      <td>https://echa.europa.eu/nl/pbt</td>\n",
       "    </tr>\n",
       "  </tbody>\n",
       "</table>\n",
       "</div>"
      ],
      "text/plain": [
       "  CAS Number Jurisdiction                  RegulatoryAgency TypeOfRegulation  \\\n",
       "0  1222-05-5       Europe  European Chemicals Agency (ECHA)    Environmental   \n",
       "1   115-27-5       Europe  European Chemicals Agency (ECHA)    Environmental   \n",
       "\n",
       "                                       Criteria              Description  \\\n",
       "0  Persistance, bioaccumulation, toxicity (PBT)  Under PBT investigation   \n",
       "1  Persistance, bioaccumulation, toxicity (PBT)        Not Listed as PBT   \n",
       "\n",
       "  HazardClassification                              CauseOfClassification  \\\n",
       "0                 High  Under development under SEV,postponed,Under de...   \n",
       "1             Moderate                                              INI,D   \n",
       "\n",
       "                  SourceName                      SourceURL  \n",
       "0  European Chemicals Agency  https://echa.europa.eu/nl/pbt  \n",
       "1  European Chemicals Agency  https://echa.europa.eu/nl/pbt  "
      ]
     },
     "execution_count": 21,
     "metadata": {},
     "output_type": "execute_result"
    }
   ],
   "source": [
    "result['Jurisdiction'] = 'Europe'\n",
    "result['RegulatoryAgency'] = 'European Chemicals Agency (ECHA)'\n",
    "result['TypeOfRegulation'] = 'Environmental'\n",
    "result['Criteria'] = 'Persistance, bioaccumulation, toxicity (PBT)'\n",
    "\n",
    "result['Description'] = 'Not Listed as PBT'\n",
    "result.loc[result['Status'].isin(['vPvB','vPvB#not PBT','PBT#vPvB','PBT']), 'Description'] = 'Confirmed severed PBT, Confirmed PBT'\n",
    "result.loc[result['Status'].isin(['Under development under SEV','postponed','Under development']), 'Description'] = 'Under PBT investigation'\n",
    "result.loc[result['Status'].isin(['not PBT#not vPvB','not PBT']), 'Description'] = 'Confirmed not to be PBT'\n",
    "\n",
    "\n",
    "result['HazardClassification'] = 'Moderate'\n",
    "result.loc[result['Status'].isin(['vPvB','vPvB#not PBT','PBT#vPvB','PBT']), 'HazardClassification'] = 'Very High'\n",
    "result.loc[result['Status'].isin(['Under development under SEV','postponed','Under development']), 'HazardClassification'] = 'High'\n",
    "result.loc[result['Status'].isin(['not PBT#not vPvB','not PBT']), 'HazardClassification'] = 'Low'\n",
    "\n",
    "\n",
    "\n",
    "\n",
    "result['CauseOfClassification'] = 'INI,D'\n",
    "result.loc[result['Status'].isin(['vPvB','vPvB#not PBT','PBT#vPvB','PBT']), 'CauseOfClassification'] = 'vPvB,vPvB#not PBT,PBT#vPvB,PBT'\n",
    "result.loc[result['Status'].isin(['Under development under SEV','postponed','Under development']), 'CauseOfClassification'] = 'Under development under SEV,postponed,Under development'\n",
    "result.loc[result['Status'].isin(['not PBT#not vPvB','not PBT']), 'CauseOfClassification'] = 'not PBT#not vPvB,not PBT'\n",
    "\n",
    "\n",
    "result['SourceName'] = 'European Chemicals Agency'\n",
    "result['SourceURL'] = 'https://echa.europa.eu/nl/pbt'\n",
    "result = result.drop(['Status'], axis=1)\n",
    "\n",
    "result.head(2)"
   ]
  },
  {
   "cell_type": "code",
   "execution_count": null,
   "id": "6b22dce6",
   "metadata": {},
   "outputs": [],
   "source": [
    "results.to_csv('Y:/delete/Reugulatory Assessment.csv',index=False,mode='a',header=False)"
   ]
  },
  {
   "cell_type": "code",
   "execution_count": 22,
   "id": "dfc8d062",
   "metadata": {},
   "outputs": [
    {
     "name": "stdout",
     "output_type": "stream",
     "text": [
      "The total time taken is 0:39:36.901547\n"
     ]
    }
   ],
   "source": [
    "end_time = datetime.now()\n",
    "print('The total time taken is', (end_time - start_time))"
   ]
  }
 ],
 "metadata": {
  "kernelspec": {
   "display_name": "Python 3 (ipykernel)",
   "language": "python",
   "name": "python3"
  },
  "language_info": {
   "codemirror_mode": {
    "name": "ipython",
    "version": 3
   },
   "file_extension": ".py",
   "mimetype": "text/x-python",
   "name": "python",
   "nbconvert_exporter": "python",
   "pygments_lexer": "ipython3",
   "version": "3.9.6"
  }
 },
 "nbformat": 4,
 "nbformat_minor": 5
}
