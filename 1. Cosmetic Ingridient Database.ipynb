{
 "cells": [
  {
   "cell_type": "code",
   "execution_count": 1,
   "id": "8b1e4429",
   "metadata": {},
   "outputs": [],
   "source": [
    "from selenium import webdriver\n",
    "import time\n",
    "from selenium.webdriver.common.by import By\n",
    "from selenium.webdriver.chrome.service import Service\n",
    "from io import StringIO\n",
    "from selenium.webdriver.common.keys import Keys\n",
    "import pandas as pd\n",
    "from datetime import datetime\n",
    "import os\n",
    "import numpy as np"
   ]
  },
  {
   "cell_type": "code",
   "execution_count": 2,
   "id": "c13122f7",
   "metadata": {},
   "outputs": [],
   "source": [
    "start_time = datetime.now()"
   ]
  },
  {
   "cell_type": "code",
   "execution_count": 3,
   "id": "44b2727e",
   "metadata": {},
   "outputs": [],
   "source": [
    "dir = 'Y:\\delete\\Cosmetic Ingridient Database'\n",
    "for f in os.listdir(dir):\n",
    "    os.remove(os.path.join(dir, f))"
   ]
  },
  {
   "cell_type": "code",
   "execution_count": 4,
   "id": "0c6a7b0c",
   "metadata": {},
   "outputs": [],
   "source": [
    "# create webdriver object\n",
    "ser = Service(\"C:/Users/AIMPAI0/Downloads/chromedriver.exe\")\n",
    "op = webdriver.ChromeOptions()\n",
    "prefs = {\"download.default_directory\" : \"Y:\\\\delete\\\\Cosmetic Ingridient Database\"}\n",
    "op.add_experimental_option(\"prefs\",prefs)\n",
    "driver = webdriver.Chrome(service=ser, options=op)\n",
    "driver.maximize_window()  \n",
    "driver.get(\"https://data.europa.eu/data/datasets/cosmetic-ingredient-database-2-list-of-substances-prohibited-in-cosmetic-products?locale=en\")\n",
    "time.sleep(10)\n",
    "driver.find_element(by=By.XPATH, value='/html/body/div/div[4]/div[2]/div/div[2]/div[4]/div/ul/div/div[7]/div[2]/div/button').click()\n",
    "time.sleep(10)\n",
    "driver.find_element(by=By.XPATH, value='/html/body/div/div[4]/div[2]/div/div[2]/div[4]/div/ul/div/div[6]/div/div[2]/div/div/div[2]/div/button/span').click()\n",
    "driver.find_element(by=By.XPATH, value='/html/body/div/div[4]/div[2]/div/div[2]/div[4]/div/ul/div/div[6]/div/div[2]/div/div/div[2]/div/div/span[2]/a/small').click()\n",
    "time.sleep(10)\n",
    "driver.find_element(by=By.XPATH, value='/html/body/div/div[4]/div[2]/div/div[2]/div[4]/div/ul/div/div[8]/div/div[2]/div/div/div[2]/div/button/span').click()\n",
    "driver.find_element(by=By.XPATH, value='/html/body/div/div[4]/div[2]/div/div[2]/div[4]/div/ul/div/div[8]/div/div[2]/div/div/div[2]/div/div/span[2]/a/small').click()\n",
    "time.sleep(10)\n",
    "driver.find_element(by=By.XPATH, value='/html/body/div/div[4]/div[2]/div/div[2]/div[4]/div/ul/div/div[11]/div/div[2]/div/div/div[2]/div/button/span').click()\n",
    "driver.find_element(by=By.XPATH, value='/html/body/div/div[4]/div[2]/div/div[2]/div[4]/div/ul/div/div[11]/div/div[2]/div/div/div[2]/div/div/span[2]/a/small').click()\n",
    "time.sleep(10)\n",
    "driver.close()"
   ]
  },
  {
   "cell_type": "code",
   "execution_count": 87,
   "id": "2b0f3122",
   "metadata": {},
   "outputs": [
    {
     "data": {
      "text/html": [
       "<div>\n",
       "<style scoped>\n",
       "    .dataframe tbody tr th:only-of-type {\n",
       "        vertical-align: middle;\n",
       "    }\n",
       "\n",
       "    .dataframe tbody tr th {\n",
       "        vertical-align: top;\n",
       "    }\n",
       "\n",
       "    .dataframe thead th {\n",
       "        text-align: right;\n",
       "    }\n",
       "</style>\n",
       "<table border=\"1\" class=\"dataframe\">\n",
       "  <thead>\n",
       "    <tr style=\"text-align: right;\">\n",
       "      <th></th>\n",
       "      <th>CAS Number</th>\n",
       "      <th>annex</th>\n",
       "    </tr>\n",
       "  </thead>\n",
       "  <tbody>\n",
       "    <tr>\n",
       "      <th>0</th>\n",
       "      <td>65-85-0</td>\n",
       "      <td>Annex V</td>\n",
       "    </tr>\n",
       "    <tr>\n",
       "      <th>1</th>\n",
       "      <td>532-32-1</td>\n",
       "      <td>Annex V</td>\n",
       "    </tr>\n",
       "  </tbody>\n",
       "</table>\n",
       "</div>"
      ],
      "text/plain": [
       "  CAS Number    annex\n",
       "0    65-85-0  Annex V\n",
       "1   532-32-1  Annex V"
      ]
     },
     "execution_count": 87,
     "metadata": {},
     "output_type": "execute_result"
    }
   ],
   "source": [
    "Ydf1 = pd.read_csv('Y:/delete/Cosmetic Ingridient Database/COSING_Annex V_v2.csv',skiprows=8)\n",
    "df1 = df1[['CAS Number']]\n",
    "df1['CAS Number'] = df1['CAS Number'].str.split('/')\n",
    "df1 = df1.explode('CAS Number').reset_index(drop=True)\n",
    "nan_value = float(\"NaN\")\n",
    "df1 = df1.replace(\" \", nan_value)\n",
    "df1 = df1.dropna()\n",
    "df1 = df1.reset_index(drop=True)\n",
    "df1['annex'] = 'Annex V'\n",
    "\n",
    "df2 = pd.read_csv('Y:/delete/Cosmetic Ingridient Database/COSING_Annex III_v2.csv',skiprows=8)\n",
    "df2 = df2[['CAS Number']]\n",
    "df2['CAS Number'] = df2['CAS Number'].str.split('/')\n",
    "df2 = df2.explode('CAS Number').reset_index(drop=True)\n",
    "nan_value = float(\"NaN\")\n",
    "df2 = df2.replace(\" \", nan_value)\n",
    "df2 = df2.dropna()\n",
    "df2 = df2.reset_index(drop=True)\n",
    "df2['annex'] = 'Annex III'\n",
    "\n",
    "df3 = pd.read_csv('Y:/delete/Cosmetic Ingridient Database/COSING_Annex II_v2.csv',skiprows=6)\n",
    "df3 = df3[['CAS Number']]\n",
    "df3['CAS Number'] = df3['CAS Number'].str.split('/')\n",
    "df3 = df3.explode('CAS Number').reset_index(drop=True)\n",
    "nan_value = float(\"NaN\")\n",
    "df3 = df3.replace(\" \", nan_value)\n",
    "df3 = df3.dropna()\n",
    "df3 = df3.reset_index(drop=True)\n",
    "df3['annex'] = 'Annex II'\n",
    "\n",
    "CAS = pd.read_excel('Y:/delete/Chemical CAS.xlsx')\n",
    "CAS['value'] = 'Annex V'\n",
    "CAS = CAS.applymap(lambda x: x.strip() if isinstance(x, str) else x)\n",
    "\n",
    "frames = [df1, df2, df3]\n",
    "dataset = pd.concat(frames)\n",
    "dataset = dataset.applymap(lambda x: x.strip() if isinstance(x, str) else x)\n",
    "\n",
    "result = pd.merge(dataset, CAS, how=\"outer\", on=\"CAS Number\")\n",
    "result.annex.fillna(result.value, inplace=True)\n",
    "del result['value']\n",
    "result.head(2)"
   ]
  },
  {
   "cell_type": "code",
   "execution_count": 85,
   "id": "8679d358",
   "metadata": {},
   "outputs": [
    {
     "data": {
      "text/html": [
       "<div>\n",
       "<style scoped>\n",
       "    .dataframe tbody tr th:only-of-type {\n",
       "        vertical-align: middle;\n",
       "    }\n",
       "\n",
       "    .dataframe tbody tr th {\n",
       "        vertical-align: top;\n",
       "    }\n",
       "\n",
       "    .dataframe thead th {\n",
       "        text-align: right;\n",
       "    }\n",
       "</style>\n",
       "<table border=\"1\" class=\"dataframe\">\n",
       "  <thead>\n",
       "    <tr style=\"text-align: right;\">\n",
       "      <th></th>\n",
       "      <th>CAS Number</th>\n",
       "      <th>annex</th>\n",
       "      <th>Jurisdiction</th>\n",
       "      <th>RegulatoryAgency</th>\n",
       "      <th>TypeOfRegulation</th>\n",
       "      <th>Criteria</th>\n",
       "      <th>Description</th>\n",
       "      <th>HazardClassification</th>\n",
       "      <th>CauseOfClassification</th>\n",
       "      <th>SourceName</th>\n",
       "      <th>SourceURL</th>\n",
       "    </tr>\n",
       "  </thead>\n",
       "  <tbody>\n",
       "    <tr>\n",
       "      <th>0</th>\n",
       "      <td>65-85-0</td>\n",
       "      <td>Annex V</td>\n",
       "      <td>Europe</td>\n",
       "      <td>European Directorate-General</td>\n",
       "      <td>Use</td>\n",
       "      <td>Use in Cosmetics</td>\n",
       "      <td>Not prohibited in cosmetics products</td>\n",
       "      <td>Low</td>\n",
       "      <td>Not prohibited by  EU Directorate-General</td>\n",
       "      <td>Cosmetic Ingridient Database</td>\n",
       "      <td>https://data.europa.eu/data/datasets/cosmetic-...</td>\n",
       "    </tr>\n",
       "    <tr>\n",
       "      <th>1</th>\n",
       "      <td>532-32-1</td>\n",
       "      <td>Annex V</td>\n",
       "      <td>Europe</td>\n",
       "      <td>European Directorate-General</td>\n",
       "      <td>Use</td>\n",
       "      <td>Use in Cosmetics</td>\n",
       "      <td>Not prohibited in cosmetics products</td>\n",
       "      <td>Low</td>\n",
       "      <td>Not prohibited by  EU Directorate-General</td>\n",
       "      <td>Cosmetic Ingridient Database</td>\n",
       "      <td>https://data.europa.eu/data/datasets/cosmetic-...</td>\n",
       "    </tr>\n",
       "  </tbody>\n",
       "</table>\n",
       "</div>"
      ],
      "text/plain": [
       "  CAS Number    annex Jurisdiction              RegulatoryAgency  \\\n",
       "0    65-85-0  Annex V       Europe  European Directorate-General   \n",
       "1   532-32-1  Annex V       Europe  European Directorate-General   \n",
       "\n",
       "  TypeOfRegulation          Criteria                           Description  \\\n",
       "0              Use  Use in Cosmetics  Not prohibited in cosmetics products   \n",
       "1              Use  Use in Cosmetics  Not prohibited in cosmetics products   \n",
       "\n",
       "  HazardClassification                      CauseOfClassification  \\\n",
       "0                  Low  Not prohibited by  EU Directorate-General   \n",
       "1                  Low  Not prohibited by  EU Directorate-General   \n",
       "\n",
       "                     SourceName  \\\n",
       "0  Cosmetic Ingridient Database   \n",
       "1  Cosmetic Ingridient Database   \n",
       "\n",
       "                                           SourceURL  \n",
       "0  https://data.europa.eu/data/datasets/cosmetic-...  \n",
       "1  https://data.europa.eu/data/datasets/cosmetic-...  "
      ]
     },
     "execution_count": 85,
     "metadata": {},
     "output_type": "execute_result"
    }
   ],
   "source": [
    "result['Jurisdiction'] = 'Europe'\n",
    "result['RegulatoryAgency'] = 'European Directorate-General'\n",
    "result['TypeOfRegulation'] = 'Use'\n",
    "result['Criteria'] = 'Use in Cosmetics'\n",
    "\n",
    "result['Description'] = 'Prohibited in cosmetics products'\n",
    "result.loc[result['annex'] == 'Annex V', 'Description'] = 'Not prohibited in cosmetics products'\n",
    "result.loc[result['annex'] == 'Annex III', 'Description'] = 'Restricted in cosmetics products'\n",
    "\n",
    "\n",
    "\n",
    "result['HazardClassification'] = 'High'\n",
    "result.loc[result['annex'] == 'Annex V', 'HazardClassification'] = 'Low'\n",
    "result.loc[result['annex'] == 'Annex III', 'HazardClassification'] = 'Moderate'\n",
    "\n",
    "result['CauseOfClassification'] = 'Prohibited by  EU Directorate-General'\n",
    "result.loc[result['annex'] == 'Annex V', 'CauseOfClassification'] = 'Not prohibited by  EU Directorate-General'\n",
    "result.loc[result['annex'] == 'Annex III', 'CauseOfClassification'] = 'Restricted by  EU Directorate-General'\n",
    "\n",
    "result['SourceName'] = 'Cosmetic Ingridient Database'\n",
    "result['SourceURL'] = 'https://data.europa.eu/data/datasets/cosmetic-ingredient-database-2-list-of-substances-prohibited-in-cosmetic-products?locale=en'\n",
    "result.head(2)"
   ]
  },
  {
   "cell_type": "code",
   "execution_count": null,
   "id": "8b434098",
   "metadata": {},
   "outputs": [],
   "source": [
    "results.to_csv('Y:/delete/Reugulatory Assessment.csv',index=False)"
   ]
  },
  {
   "cell_type": "code",
   "execution_count": 88,
   "id": "97d84e3f",
   "metadata": {},
   "outputs": [
    {
     "name": "stdout",
     "output_type": "stream",
     "text": [
      "The total time taken is 0:41:55.853379\n"
     ]
    }
   ],
   "source": [
    "end_time = datetime.now()\n",
    "print('The total time taken is', (end_time - start_time))"
   ]
  }
 ],
 "metadata": {
  "kernelspec": {
   "display_name": "Python 3 (ipykernel)",
   "language": "python",
   "name": "python3"
  },
  "language_info": {
   "codemirror_mode": {
    "name": "ipython",
    "version": 3
   },
   "file_extension": ".py",
   "mimetype": "text/x-python",
   "name": "python",
   "nbconvert_exporter": "python",
   "pygments_lexer": "ipython3",
   "version": "3.9.6"
  }
 },
 "nbformat": 4,
 "nbformat_minor": 5
}
