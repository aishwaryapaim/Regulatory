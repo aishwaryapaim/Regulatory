{
 "cells": [
  {
   "cell_type": "code",
   "execution_count": 1,
   "id": "2acad3c6",
   "metadata": {},
   "outputs": [],
   "source": [
    "import requests\n",
    "from bs4 import BeautifulSoup\n",
    "import re\n",
    "from selenium import webdriver\n",
    "import time\n",
    "from selenium.webdriver.common.by import By\n",
    "from selenium.webdriver.chrome.service import Service\n",
    "from selenium.webdriver.chrome.options import Options\n",
    "import pandas as pd\n",
    "from datetime import datetime\n",
    "import os"
   ]
  },
  {
   "cell_type": "code",
   "execution_count": 2,
   "id": "7db7cac3",
   "metadata": {},
   "outputs": [],
   "source": [
    "start_time = datetime.now()"
   ]
  },
  {
   "cell_type": "code",
   "execution_count": 3,
   "id": "e7c215cf",
   "metadata": {},
   "outputs": [],
   "source": [
    "ser = Service(\"C:/Users/AIMPAI0/Downloads/chromedriver.exe\")\n",
    "op = webdriver.ChromeOptions()\n",
    "prefs = {\"download.default_directory\" : \"Y:\\\\delete\"}\n",
    "op.add_experimental_option(\"prefs\",prefs)\n",
    "driver = webdriver.Chrome(service=ser, options=op)\n",
    "driver.maximize_window()  \n",
    "driver.get(\"https://www.canada.ca/en/environment-climate-change/services/canadian-environmental-protection-act-registry/substances-list/toxic/schedule-1.html\")\n",
    "driver.implicitly_wait(5)\n",
    "driver.find_element(by=By.XPATH, value=\"/html/body/main/div[1]/div/ol/li[2]/a\").click()\n",
    "Register_number = []\n",
    "for i in range(163):\n",
    "    try:\n",
    "        driver.get(\"https://www.canada.ca/en/environment-climate-change/services/canadian-environmental-protection-act-registry/substances-list/toxic/schedule-1.html\")\n",
    "        driver.implicitly_wait(5)\n",
    "        driver.find_element(by=By.XPATH, value=\"/html/body/main/div[1]/div/ol/li[\" + str(i) + \"]/a\").click()\n",
    "        get_url = driver.current_url\n",
    "        page = requests.get(get_url)\n",
    "        soup = BeautifulSoup(page.content, \"html.parser\")\n",
    "        for para in soup.find_all(\"p\"):\n",
    "            string = para.get_text()\n",
    "            if re.search(\"[0-9]+-[0-9]+-[0-9]+\", string) and  \"CAS\" in string:\n",
    "                d = re.findall(\"[0-9]+-[0-9]+-[0-9]+\", string)\n",
    "                Register_number.extend(d)\n",
    "        for para in soup.find_all(\"li\"):\n",
    "            string = para.get_text()\n",
    "            if re.search(\"[0-9]+-[0-9]+-[0-9]+\", string) and  \"CAS\" in string:\n",
    "                d = re.findall(\"[0-9]+-[0-9]+-[0-9]+\", string)\n",
    "                Register_number.extend(d)\n",
    "    except:\n",
    "        pass"
   ]
  },
  {
   "cell_type": "code",
   "execution_count": 4,
   "id": "e67947d5",
   "metadata": {},
   "outputs": [
    {
     "name": "stdout",
     "output_type": "stream",
     "text": [
      "69\n"
     ]
    }
   ],
   "source": [
    "Register_number\n",
    "mylist = list(dict.fromkeys(Register_number))\n",
    "print(len(mylist))"
   ]
  },
  {
   "cell_type": "code",
   "execution_count": 16,
   "id": "8b1929b1",
   "metadata": {},
   "outputs": [
    {
     "data": {
      "text/html": [
       "<div>\n",
       "<style scoped>\n",
       "    .dataframe tbody tr th:only-of-type {\n",
       "        vertical-align: middle;\n",
       "    }\n",
       "\n",
       "    .dataframe tbody tr th {\n",
       "        vertical-align: top;\n",
       "    }\n",
       "\n",
       "    .dataframe thead th {\n",
       "        text-align: right;\n",
       "    }\n",
       "</style>\n",
       "<table border=\"1\" class=\"dataframe\">\n",
       "  <thead>\n",
       "    <tr style=\"text-align: right;\">\n",
       "      <th></th>\n",
       "      <th>CAS Number</th>\n",
       "      <th>value</th>\n",
       "    </tr>\n",
       "  </thead>\n",
       "  <tbody>\n",
       "    <tr>\n",
       "      <th>0</th>\n",
       "      <td>61788-33-8</td>\n",
       "      <td>NaN</td>\n",
       "    </tr>\n",
       "    <tr>\n",
       "      <th>1</th>\n",
       "      <td>1332-21-4</td>\n",
       "      <td>NaN</td>\n",
       "    </tr>\n",
       "  </tbody>\n",
       "</table>\n",
       "</div>"
      ],
      "text/plain": [
       "   CAS Number value\n",
       "0  61788-33-8   NaN\n",
       "1   1332-21-4   NaN"
      ]
     },
     "execution_count": 16,
     "metadata": {},
     "output_type": "execute_result"
    }
   ],
   "source": [
    "dataset = pd.DataFrame(mylist,columns =['CAS Number'])\n",
    "CAS = pd.read_excel('Y:/delete/Chemical CAS.xlsx')\n",
    "CAS['value'] = 'Not in list'\n",
    "CAS = CAS.applymap(lambda x: x.strip() if isinstance(x, str) else x)\n",
    "\n",
    "result = pd.merge(dataset, CAS, how=\"outer\", on=\"CAS Number\")\n",
    "result.head(2)"
   ]
  },
  {
   "cell_type": "code",
   "execution_count": 17,
   "id": "5adf3dbd",
   "metadata": {},
   "outputs": [
    {
     "data": {
      "text/html": [
       "<div>\n",
       "<style scoped>\n",
       "    .dataframe tbody tr th:only-of-type {\n",
       "        vertical-align: middle;\n",
       "    }\n",
       "\n",
       "    .dataframe tbody tr th {\n",
       "        vertical-align: top;\n",
       "    }\n",
       "\n",
       "    .dataframe thead th {\n",
       "        text-align: right;\n",
       "    }\n",
       "</style>\n",
       "<table border=\"1\" class=\"dataframe\">\n",
       "  <thead>\n",
       "    <tr style=\"text-align: right;\">\n",
       "      <th></th>\n",
       "      <th>CAS Number</th>\n",
       "      <th>Jurisdiction</th>\n",
       "      <th>RegulatoryAgency</th>\n",
       "      <th>TypeOfRegulation</th>\n",
       "      <th>Criteria</th>\n",
       "      <th>Description</th>\n",
       "      <th>HazardClassification</th>\n",
       "      <th>CauseOfClassification</th>\n",
       "      <th>SourceName</th>\n",
       "      <th>SourceURL</th>\n",
       "    </tr>\n",
       "  </thead>\n",
       "  <tbody>\n",
       "    <tr>\n",
       "      <th>0</th>\n",
       "      <td>61788-33-8</td>\n",
       "      <td>Canada</td>\n",
       "      <td>Canada Environmental Protection Agency (CEPA)</td>\n",
       "      <td>Health</td>\n",
       "      <td>Toxocity</td>\n",
       "      <td>Toxic</td>\n",
       "      <td>High</td>\n",
       "      <td>On list of Toxic Substances (Schedule 1)</td>\n",
       "      <td>Health Canada</td>\n",
       "      <td>https://www.canada.ca/en/environment-climate-c...</td>\n",
       "    </tr>\n",
       "    <tr>\n",
       "      <th>1</th>\n",
       "      <td>1332-21-4</td>\n",
       "      <td>Canada</td>\n",
       "      <td>Canada Environmental Protection Agency (CEPA)</td>\n",
       "      <td>Health</td>\n",
       "      <td>Toxocity</td>\n",
       "      <td>Toxic</td>\n",
       "      <td>High</td>\n",
       "      <td>On list of Toxic Substances (Schedule 1)</td>\n",
       "      <td>Health Canada</td>\n",
       "      <td>https://www.canada.ca/en/environment-climate-c...</td>\n",
       "    </tr>\n",
       "  </tbody>\n",
       "</table>\n",
       "</div>"
      ],
      "text/plain": [
       "   CAS Number Jurisdiction                               RegulatoryAgency  \\\n",
       "0  61788-33-8       Canada  Canada Environmental Protection Agency (CEPA)   \n",
       "1   1332-21-4       Canada  Canada Environmental Protection Agency (CEPA)   \n",
       "\n",
       "  TypeOfRegulation  Criteria Description HazardClassification  \\\n",
       "0           Health  Toxocity       Toxic                 High   \n",
       "1           Health  Toxocity       Toxic                 High   \n",
       "\n",
       "                      CauseOfClassification     SourceName  \\\n",
       "0  On list of Toxic Substances (Schedule 1)  Health Canada   \n",
       "1  On list of Toxic Substances (Schedule 1)  Health Canada   \n",
       "\n",
       "                                           SourceURL  \n",
       "0  https://www.canada.ca/en/environment-climate-c...  \n",
       "1  https://www.canada.ca/en/environment-climate-c...  "
      ]
     },
     "execution_count": 17,
     "metadata": {},
     "output_type": "execute_result"
    }
   ],
   "source": [
    "result['Jurisdiction'] = 'Canada'\n",
    "result['RegulatoryAgency'] = 'Canada Environmental Protection Agency (CEPA)'\n",
    "result['TypeOfRegulation'] = 'Health'\n",
    "result['Criteria'] = 'Toxocity'\n",
    "\n",
    "\n",
    "result['Description'] = 'Toxic'\n",
    "result.loc[result['value'] == 'Not in list', 'Description'] = 'Not prioritized'\n",
    "\n",
    "result['HazardClassification'] = 'High'\n",
    "result.loc[result['value'] == 'Not in list', 'HazardClassification'] = 'Low'\n",
    "\n",
    "result['CauseOfClassification'] = 'On list of Toxic Substances (Schedule 1)'\n",
    "result.loc[result['value'] == 'Not in list', 'CauseOfClassification'] = 'Not on Toxic Substances List or under assessment'\n",
    "\n",
    "result['SourceName'] = 'Health Canada'\n",
    "result['SourceURL'] = 'https://www.canada.ca/en/environment-climate-change/services/canadian-environmental-protection-act-registry/substances-list/toxic/schedule-1.html'\n",
    "\n",
    "result = result.drop(['value'], axis=1)\n",
    "\n",
    "result.head(2)"
   ]
  },
  {
   "cell_type": "code",
   "execution_count": null,
   "id": "26171689",
   "metadata": {},
   "outputs": [],
   "source": [
    "result.to_csv('Y:/delete/Reugulatory Assessment.csv',index=False,mode='a',header=False)"
   ]
  },
  {
   "cell_type": "code",
   "execution_count": 18,
   "id": "c53d3ea0",
   "metadata": {},
   "outputs": [
    {
     "name": "stdout",
     "output_type": "stream",
     "text": [
      "The total time taken is 0:53:42.633943\n"
     ]
    }
   ],
   "source": [
    "end_time = datetime.now()\n",
    "print('The total time taken is', (end_time - start_time))"
   ]
  }
 ],
 "metadata": {
  "kernelspec": {
   "display_name": "Python 3 (ipykernel)",
   "language": "python",
   "name": "python3"
  },
  "language_info": {
   "codemirror_mode": {
    "name": "ipython",
    "version": 3
   },
   "file_extension": ".py",
   "mimetype": "text/x-python",
   "name": "python",
   "nbconvert_exporter": "python",
   "pygments_lexer": "ipython3",
   "version": "3.9.6"
  }
 },
 "nbformat": 4,
 "nbformat_minor": 5
}
